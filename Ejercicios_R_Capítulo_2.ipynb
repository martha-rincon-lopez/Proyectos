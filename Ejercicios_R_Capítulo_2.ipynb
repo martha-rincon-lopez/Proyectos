{
  "nbformat": 4,
  "nbformat_minor": 0,
  "metadata": {
    "colab": {
      "provenance": [],
      "authorship_tag": "ABX9TyNk//1fFOt0mUL4E2FWq37Q",
      "include_colab_link": true
    },
    "kernelspec": {
      "name": "ir",
      "display_name": "R"
    },
    "language_info": {
      "name": "R"
    }
  },
  "cells": [
    {
      "cell_type": "markdown",
      "metadata": {
        "id": "view-in-github",
        "colab_type": "text"
      },
      "source": [
        "<a href=\"https://colab.research.google.com/github/martha-rincon-lopez/Proyectos/blob/main/Ejercicios_R_Cap%C3%ADtulo_2.ipynb\" target=\"_parent\"><img src=\"https://colab.research.google.com/assets/colab-badge.svg\" alt=\"Open In Colab\"/></a>"
      ]
    },
    {
      "cell_type": "markdown",
      "source": [
        "# **Ejercicios R**"
      ],
      "metadata": {
        "id": "j4B6ZmSH6zjv"
      }
    },
    {
      "cell_type": "markdown",
      "source": [
        "# **Capítulo 2: Tipos de Objetos**"
      ],
      "metadata": {
        "id": "bZvuXTu062J3"
      }
    },
    {
      "cell_type": "markdown",
      "source": [
        "1. Construya un vector con la primeras 20 letras MAYÚSCULAS usando la función LETTERS."
      ],
      "metadata": {
        "id": "dQoeI4Nx66b9"
      }
    },
    {
      "cell_type": "code",
      "execution_count": null,
      "metadata": {
        "colab": {
          "base_uri": "https://localhost:8080/",
          "height": 34
        },
        "id": "lpNuU93e6szq",
        "outputId": "60bc3a0f-43e3-446c-8799-ca56ae6f6197"
      },
      "outputs": [
        {
          "output_type": "display_data",
          "data": {
            "text/html": [
              "<style>\n",
              ".list-inline {list-style: none; margin:0; padding: 0}\n",
              ".list-inline>li {display: inline-block}\n",
              ".list-inline>li:not(:last-child)::after {content: \"\\00b7\"; padding: 0 .5ex}\n",
              "</style>\n",
              "<ol class=list-inline><li>'A'</li><li>'B'</li><li>'C'</li><li>'D'</li><li>'E'</li><li>'F'</li><li>'G'</li><li>'H'</li><li>'I'</li><li>'J'</li><li>'K'</li><li>'L'</li><li>'M'</li><li>'N'</li><li>'O'</li><li>'P'</li><li>'Q'</li><li>'R'</li><li>'S'</li><li>'T'</li></ol>\n"
            ],
            "text/markdown": "1. 'A'\n2. 'B'\n3. 'C'\n4. 'D'\n5. 'E'\n6. 'F'\n7. 'G'\n8. 'H'\n9. 'I'\n10. 'J'\n11. 'K'\n12. 'L'\n13. 'M'\n14. 'N'\n15. 'O'\n16. 'P'\n17. 'Q'\n18. 'R'\n19. 'S'\n20. 'T'\n\n\n",
            "text/latex": "\\begin{enumerate*}\n\\item 'A'\n\\item 'B'\n\\item 'C'\n\\item 'D'\n\\item 'E'\n\\item 'F'\n\\item 'G'\n\\item 'H'\n\\item 'I'\n\\item 'J'\n\\item 'K'\n\\item 'L'\n\\item 'M'\n\\item 'N'\n\\item 'O'\n\\item 'P'\n\\item 'Q'\n\\item 'R'\n\\item 'S'\n\\item 'T'\n\\end{enumerate*}\n",
            "text/plain": [
              " [1] \"A\" \"B\" \"C\" \"D\" \"E\" \"F\" \"G\" \"H\" \"I\" \"J\" \"K\" \"L\" \"M\" \"N\" \"O\" \"P\" \"Q\" \"R\" \"S\"\n",
              "[20] \"T\""
            ]
          },
          "metadata": {}
        }
      ],
      "source": [
        "x<-toupper(c(letters[1:20]))\n",
        "x"
      ]
    },
    {
      "cell_type": "markdown",
      "source": [
        "2. Construya una matriz de 10 x 10 con los primeros 100 números positivos pares.\n"
      ],
      "metadata": {
        "id": "1GDfYI7L7Fsu"
      }
    },
    {
      "cell_type": "code",
      "source": [
        "num.par.matriz <- 0 #contador de número pares para la matriz\n",
        "num.par <- -2   #contador de pares obtenidos\n",
        "historial<-NULL  #vector vacío para almacenar\n",
        "\n",
        "while (num.par.matriz < 101){\n",
        "  num.par <- num.par + 1\n",
        "  historial[num.par.matriz] <- num.par\n",
        "  if(num.par %% 2 == 0){\n",
        "    num.par.matriz <- num.par.matriz + 1\n",
        "  }\n",
        "}\n",
        "#historial\n",
        "matriz1<-matrix(data=historial, nrow=10, ncol=10, byrow=FALSE)\n",
        "matriz1"
      ],
      "metadata": {
        "colab": {
          "base_uri": "https://localhost:8080/",
          "height": 348
        },
        "id": "ex0wuCTl7RIN",
        "outputId": "cabd478d-3c6c-44df-e081-1e77c12d425f"
      },
      "execution_count": null,
      "outputs": [
        {
          "output_type": "display_data",
          "data": {
            "text/html": [
              "<table class=\"dataframe\">\n",
              "<caption>A matrix: 10 × 10 of type dbl</caption>\n",
              "<tbody>\n",
              "\t<tr><td> 2</td><td>22</td><td>42</td><td>62</td><td> 82</td><td>102</td><td>122</td><td>142</td><td>162</td><td>182</td></tr>\n",
              "\t<tr><td> 4</td><td>24</td><td>44</td><td>64</td><td> 84</td><td>104</td><td>124</td><td>144</td><td>164</td><td>184</td></tr>\n",
              "\t<tr><td> 6</td><td>26</td><td>46</td><td>66</td><td> 86</td><td>106</td><td>126</td><td>146</td><td>166</td><td>186</td></tr>\n",
              "\t<tr><td> 8</td><td>28</td><td>48</td><td>68</td><td> 88</td><td>108</td><td>128</td><td>148</td><td>168</td><td>188</td></tr>\n",
              "\t<tr><td>10</td><td>30</td><td>50</td><td>70</td><td> 90</td><td>110</td><td>130</td><td>150</td><td>170</td><td>190</td></tr>\n",
              "\t<tr><td>12</td><td>32</td><td>52</td><td>72</td><td> 92</td><td>112</td><td>132</td><td>152</td><td>172</td><td>192</td></tr>\n",
              "\t<tr><td>14</td><td>34</td><td>54</td><td>74</td><td> 94</td><td>114</td><td>134</td><td>154</td><td>174</td><td>194</td></tr>\n",
              "\t<tr><td>16</td><td>36</td><td>56</td><td>76</td><td> 96</td><td>116</td><td>136</td><td>156</td><td>176</td><td>196</td></tr>\n",
              "\t<tr><td>18</td><td>38</td><td>58</td><td>78</td><td> 98</td><td>118</td><td>138</td><td>158</td><td>178</td><td>198</td></tr>\n",
              "\t<tr><td>20</td><td>40</td><td>60</td><td>80</td><td>100</td><td>120</td><td>140</td><td>160</td><td>180</td><td>200</td></tr>\n",
              "</tbody>\n",
              "</table>\n"
            ],
            "text/markdown": "\nA matrix: 10 × 10 of type dbl\n\n|  2 | 22 | 42 | 62 |  82 | 102 | 122 | 142 | 162 | 182 |\n|  4 | 24 | 44 | 64 |  84 | 104 | 124 | 144 | 164 | 184 |\n|  6 | 26 | 46 | 66 |  86 | 106 | 126 | 146 | 166 | 186 |\n|  8 | 28 | 48 | 68 |  88 | 108 | 128 | 148 | 168 | 188 |\n| 10 | 30 | 50 | 70 |  90 | 110 | 130 | 150 | 170 | 190 |\n| 12 | 32 | 52 | 72 |  92 | 112 | 132 | 152 | 172 | 192 |\n| 14 | 34 | 54 | 74 |  94 | 114 | 134 | 154 | 174 | 194 |\n| 16 | 36 | 56 | 76 |  96 | 116 | 136 | 156 | 176 | 196 |\n| 18 | 38 | 58 | 78 |  98 | 118 | 138 | 158 | 178 | 198 |\n| 20 | 40 | 60 | 80 | 100 | 120 | 140 | 160 | 180 | 200 |\n\n",
            "text/latex": "A matrix: 10 × 10 of type dbl\n\\begin{tabular}{llllllllll}\n\t  2 & 22 & 42 & 62 &  82 & 102 & 122 & 142 & 162 & 182\\\\\n\t  4 & 24 & 44 & 64 &  84 & 104 & 124 & 144 & 164 & 184\\\\\n\t  6 & 26 & 46 & 66 &  86 & 106 & 126 & 146 & 166 & 186\\\\\n\t  8 & 28 & 48 & 68 &  88 & 108 & 128 & 148 & 168 & 188\\\\\n\t 10 & 30 & 50 & 70 &  90 & 110 & 130 & 150 & 170 & 190\\\\\n\t 12 & 32 & 52 & 72 &  92 & 112 & 132 & 152 & 172 & 192\\\\\n\t 14 & 34 & 54 & 74 &  94 & 114 & 134 & 154 & 174 & 194\\\\\n\t 16 & 36 & 56 & 76 &  96 & 116 & 136 & 156 & 176 & 196\\\\\n\t 18 & 38 & 58 & 78 &  98 & 118 & 138 & 158 & 178 & 198\\\\\n\t 20 & 40 & 60 & 80 & 100 & 120 & 140 & 160 & 180 & 200\\\\\n\\end{tabular}\n",
            "text/plain": [
              "      [,1] [,2] [,3] [,4] [,5] [,6] [,7] [,8] [,9] [,10]\n",
              " [1,]  2   22   42   62    82  102  122  142  162  182  \n",
              " [2,]  4   24   44   64    84  104  124  144  164  184  \n",
              " [3,]  6   26   46   66    86  106  126  146  166  186  \n",
              " [4,]  8   28   48   68    88  108  128  148  168  188  \n",
              " [5,] 10   30   50   70    90  110  130  150  170  190  \n",
              " [6,] 12   32   52   72    92  112  132  152  172  192  \n",
              " [7,] 14   34   54   74    94  114  134  154  174  194  \n",
              " [8,] 16   36   56   76    96  116  136  156  176  196  \n",
              " [9,] 18   38   58   78    98  118  138  158  178  198  \n",
              "[10,] 20   40   60   80   100  120  140  160  180  200  "
            ]
          },
          "metadata": {}
        }
      ]
    },
    {
      "cell_type": "markdown",
      "source": [
        "3. Construya una matriz identidad de dimension 3 x 3. Recuerde que una matriz identidad tiene sólo unos en la diagonal principal y los demás elementos son cero."
      ],
      "metadata": {
        "id": "dj6PfsYK8Wft"
      }
    },
    {
      "cell_type": "code",
      "source": [
        "valor<- c(1,0,0,0,1,0,0,0,1) #Opciones de elementos en la matriz\n",
        "matriz2<- matrix(data = valor, nrow = 3, ncol = 3, byrow = FALSE)\n",
        "matriz2"
      ],
      "metadata": {
        "colab": {
          "base_uri": "https://localhost:8080/",
          "height": 163
        },
        "id": "BuM6HRaZ8cO0",
        "outputId": "d71a656a-ab4f-42e4-f02b-0828ec8aa751"
      },
      "execution_count": null,
      "outputs": [
        {
          "output_type": "display_data",
          "data": {
            "text/html": [
              "<table class=\"dataframe\">\n",
              "<caption>A matrix: 3 × 3 of type dbl</caption>\n",
              "<tbody>\n",
              "\t<tr><td>1</td><td>0</td><td>0</td></tr>\n",
              "\t<tr><td>0</td><td>1</td><td>0</td></tr>\n",
              "\t<tr><td>0</td><td>0</td><td>1</td></tr>\n",
              "</tbody>\n",
              "</table>\n"
            ],
            "text/markdown": "\nA matrix: 3 × 3 of type dbl\n\n| 1 | 0 | 0 |\n| 0 | 1 | 0 |\n| 0 | 0 | 1 |\n\n",
            "text/latex": "A matrix: 3 × 3 of type dbl\n\\begin{tabular}{lll}\n\t 1 & 0 & 0\\\\\n\t 0 & 1 & 0\\\\\n\t 0 & 0 & 1\\\\\n\\end{tabular}\n",
            "text/plain": [
              "     [,1] [,2] [,3]\n",
              "[1,] 1    0    0   \n",
              "[2,] 0    1    0   \n",
              "[3,] 0    0    1   "
            ]
          },
          "metadata": {}
        }
      ]
    },
    {
      "cell_type": "markdown",
      "source": [
        "4. Construya una lista con los anteriores tres objetos creados."
      ],
      "metadata": {
        "id": "6NqEHMRY8lMK"
      }
    },
    {
      "cell_type": "code",
      "source": [
        "milista<- list(E1 = x, E2 = matriz1, E3 = matriz2)\n",
        "milista"
      ],
      "metadata": {
        "colab": {
          "base_uri": "https://localhost:8080/",
          "height": 591
        },
        "id": "lgeyTd4z8oue",
        "outputId": "7cda3eef-d56b-4813-8720-7df20c62852f"
      },
      "execution_count": null,
      "outputs": [
        {
          "output_type": "display_data",
          "data": {
            "text/html": [
              "<dl>\n",
              "\t<dt>$E1</dt>\n",
              "\t\t<dd><style>\n",
              ".list-inline {list-style: none; margin:0; padding: 0}\n",
              ".list-inline>li {display: inline-block}\n",
              ".list-inline>li:not(:last-child)::after {content: \"\\00b7\"; padding: 0 .5ex}\n",
              "</style>\n",
              "<ol class=list-inline><li>'A'</li><li>'B'</li><li>'C'</li><li>'D'</li><li>'E'</li><li>'F'</li><li>'G'</li><li>'H'</li><li>'I'</li><li>'J'</li><li>'K'</li><li>'L'</li><li>'M'</li><li>'N'</li><li>'O'</li><li>'P'</li><li>'Q'</li><li>'R'</li><li>'S'</li><li>'T'</li></ol>\n",
              "</dd>\n",
              "\t<dt>$E2</dt>\n",
              "\t\t<dd><table class=\"dataframe\">\n",
              "<caption>A matrix: 10 × 10 of type dbl</caption>\n",
              "<tbody>\n",
              "\t<tr><td> 2</td><td>22</td><td>42</td><td>62</td><td> 82</td><td>102</td><td>122</td><td>142</td><td>162</td><td>182</td></tr>\n",
              "\t<tr><td> 4</td><td>24</td><td>44</td><td>64</td><td> 84</td><td>104</td><td>124</td><td>144</td><td>164</td><td>184</td></tr>\n",
              "\t<tr><td> 6</td><td>26</td><td>46</td><td>66</td><td> 86</td><td>106</td><td>126</td><td>146</td><td>166</td><td>186</td></tr>\n",
              "\t<tr><td> 8</td><td>28</td><td>48</td><td>68</td><td> 88</td><td>108</td><td>128</td><td>148</td><td>168</td><td>188</td></tr>\n",
              "\t<tr><td>10</td><td>30</td><td>50</td><td>70</td><td> 90</td><td>110</td><td>130</td><td>150</td><td>170</td><td>190</td></tr>\n",
              "\t<tr><td>12</td><td>32</td><td>52</td><td>72</td><td> 92</td><td>112</td><td>132</td><td>152</td><td>172</td><td>192</td></tr>\n",
              "\t<tr><td>14</td><td>34</td><td>54</td><td>74</td><td> 94</td><td>114</td><td>134</td><td>154</td><td>174</td><td>194</td></tr>\n",
              "\t<tr><td>16</td><td>36</td><td>56</td><td>76</td><td> 96</td><td>116</td><td>136</td><td>156</td><td>176</td><td>196</td></tr>\n",
              "\t<tr><td>18</td><td>38</td><td>58</td><td>78</td><td> 98</td><td>118</td><td>138</td><td>158</td><td>178</td><td>198</td></tr>\n",
              "\t<tr><td>20</td><td>40</td><td>60</td><td>80</td><td>100</td><td>120</td><td>140</td><td>160</td><td>180</td><td>200</td></tr>\n",
              "</tbody>\n",
              "</table>\n",
              "</dd>\n",
              "\t<dt>$E3</dt>\n",
              "\t\t<dd><table class=\"dataframe\">\n",
              "<caption>A matrix: 3 × 3 of type dbl</caption>\n",
              "<tbody>\n",
              "\t<tr><td>1</td><td>0</td><td>0</td></tr>\n",
              "\t<tr><td>0</td><td>1</td><td>0</td></tr>\n",
              "\t<tr><td>0</td><td>0</td><td>1</td></tr>\n",
              "</tbody>\n",
              "</table>\n",
              "</dd>\n",
              "</dl>\n"
            ],
            "text/markdown": "$E1\n:   1. 'A'\n2. 'B'\n3. 'C'\n4. 'D'\n5. 'E'\n6. 'F'\n7. 'G'\n8. 'H'\n9. 'I'\n10. 'J'\n11. 'K'\n12. 'L'\n13. 'M'\n14. 'N'\n15. 'O'\n16. 'P'\n17. 'Q'\n18. 'R'\n19. 'S'\n20. 'T'\n\n\n\n$E2\n:   \nA matrix: 10 × 10 of type dbl\n\n|  2 | 22 | 42 | 62 |  82 | 102 | 122 | 142 | 162 | 182 |\n|  4 | 24 | 44 | 64 |  84 | 104 | 124 | 144 | 164 | 184 |\n|  6 | 26 | 46 | 66 |  86 | 106 | 126 | 146 | 166 | 186 |\n|  8 | 28 | 48 | 68 |  88 | 108 | 128 | 148 | 168 | 188 |\n| 10 | 30 | 50 | 70 |  90 | 110 | 130 | 150 | 170 | 190 |\n| 12 | 32 | 52 | 72 |  92 | 112 | 132 | 152 | 172 | 192 |\n| 14 | 34 | 54 | 74 |  94 | 114 | 134 | 154 | 174 | 194 |\n| 16 | 36 | 56 | 76 |  96 | 116 | 136 | 156 | 176 | 196 |\n| 18 | 38 | 58 | 78 |  98 | 118 | 138 | 158 | 178 | 198 |\n| 20 | 40 | 60 | 80 | 100 | 120 | 140 | 160 | 180 | 200 |\n\n\n$E3\n:   \nA matrix: 3 × 3 of type dbl\n\n| 1 | 0 | 0 |\n| 0 | 1 | 0 |\n| 0 | 0 | 1 |\n\n\n\n\n",
            "text/latex": "\\begin{description}\n\\item[\\$E1] \\begin{enumerate*}\n\\item 'A'\n\\item 'B'\n\\item 'C'\n\\item 'D'\n\\item 'E'\n\\item 'F'\n\\item 'G'\n\\item 'H'\n\\item 'I'\n\\item 'J'\n\\item 'K'\n\\item 'L'\n\\item 'M'\n\\item 'N'\n\\item 'O'\n\\item 'P'\n\\item 'Q'\n\\item 'R'\n\\item 'S'\n\\item 'T'\n\\end{enumerate*}\n\n\\item[\\$E2] A matrix: 10 × 10 of type dbl\n\\begin{tabular}{llllllllll}\n\t  2 & 22 & 42 & 62 &  82 & 102 & 122 & 142 & 162 & 182\\\\\n\t  4 & 24 & 44 & 64 &  84 & 104 & 124 & 144 & 164 & 184\\\\\n\t  6 & 26 & 46 & 66 &  86 & 106 & 126 & 146 & 166 & 186\\\\\n\t  8 & 28 & 48 & 68 &  88 & 108 & 128 & 148 & 168 & 188\\\\\n\t 10 & 30 & 50 & 70 &  90 & 110 & 130 & 150 & 170 & 190\\\\\n\t 12 & 32 & 52 & 72 &  92 & 112 & 132 & 152 & 172 & 192\\\\\n\t 14 & 34 & 54 & 74 &  94 & 114 & 134 & 154 & 174 & 194\\\\\n\t 16 & 36 & 56 & 76 &  96 & 116 & 136 & 156 & 176 & 196\\\\\n\t 18 & 38 & 58 & 78 &  98 & 118 & 138 & 158 & 178 & 198\\\\\n\t 20 & 40 & 60 & 80 & 100 & 120 & 140 & 160 & 180 & 200\\\\\n\\end{tabular}\n\n\\item[\\$E3] A matrix: 3 × 3 of type dbl\n\\begin{tabular}{lll}\n\t 1 & 0 & 0\\\\\n\t 0 & 1 & 0\\\\\n\t 0 & 0 & 1\\\\\n\\end{tabular}\n\n\\end{description}\n",
            "text/plain": [
              "$E1\n",
              " [1] \"A\" \"B\" \"C\" \"D\" \"E\" \"F\" \"G\" \"H\" \"I\" \"J\" \"K\" \"L\" \"M\" \"N\" \"O\" \"P\" \"Q\" \"R\" \"S\"\n",
              "[20] \"T\"\n",
              "\n",
              "$E2\n",
              "      [,1] [,2] [,3] [,4] [,5] [,6] [,7] [,8] [,9] [,10]\n",
              " [1,]    2   22   42   62   82  102  122  142  162   182\n",
              " [2,]    4   24   44   64   84  104  124  144  164   184\n",
              " [3,]    6   26   46   66   86  106  126  146  166   186\n",
              " [4,]    8   28   48   68   88  108  128  148  168   188\n",
              " [5,]   10   30   50   70   90  110  130  150  170   190\n",
              " [6,]   12   32   52   72   92  112  132  152  172   192\n",
              " [7,]   14   34   54   74   94  114  134  154  174   194\n",
              " [8,]   16   36   56   76   96  116  136  156  176   196\n",
              " [9,]   18   38   58   78   98  118  138  158  178   198\n",
              "[10,]   20   40   60   80  100  120  140  160  180   200\n",
              "\n",
              "$E3\n",
              "     [,1] [,2] [,3]\n",
              "[1,]    1    0    0\n",
              "[2,]    0    1    0\n",
              "[3,]    0    0    1\n"
            ]
          },
          "metadata": {}
        }
      ]
    },
    {
      "cell_type": "markdown",
      "source": [
        "5. Construya un marco de datos o data frame con las respuestas de 3 personas a las preguntas:\n",
        "(a) ¿Cuál es su edad en años?\n",
        "(b) ¿Tipo de música que más le gusta? (c) ¿Tiene usted pareja sentimental estable?"
      ],
      "metadata": {
        "id": "3ALLIIOW8vce"
      }
    },
    {
      "cell_type": "code",
      "source": [
        "edad <- c(10, 15, 21)\n",
        "music_fav <-c('pop', 'rock', 'clasica')\n",
        "pareja <- c('TRUE','FALSE', 'TRUE')\n",
        "mimarco_1 <- data.frame(edad, music_fav, pareja)\n",
        "mimarco_1"
      ],
      "metadata": {
        "colab": {
          "base_uri": "https://localhost:8080/",
          "height": 192
        },
        "id": "0ks4v3QQ82Jo",
        "outputId": "2d3baa76-6a24-4464-c4b8-ac4f433da052"
      },
      "execution_count": null,
      "outputs": [
        {
          "output_type": "display_data",
          "data": {
            "text/html": [
              "<table class=\"dataframe\">\n",
              "<caption>A data.frame: 3 × 3</caption>\n",
              "<thead>\n",
              "\t<tr><th scope=col>edad</th><th scope=col>music_fav</th><th scope=col>pareja</th></tr>\n",
              "\t<tr><th scope=col>&lt;dbl&gt;</th><th scope=col>&lt;chr&gt;</th><th scope=col>&lt;chr&gt;</th></tr>\n",
              "</thead>\n",
              "<tbody>\n",
              "\t<tr><td>10</td><td>pop    </td><td>TRUE </td></tr>\n",
              "\t<tr><td>15</td><td>rock   </td><td>FALSE</td></tr>\n",
              "\t<tr><td>21</td><td>clasica</td><td>TRUE </td></tr>\n",
              "</tbody>\n",
              "</table>\n"
            ],
            "text/markdown": "\nA data.frame: 3 × 3\n\n| edad &lt;dbl&gt; | music_fav &lt;chr&gt; | pareja &lt;chr&gt; |\n|---|---|---|\n| 10 | pop     | TRUE  |\n| 15 | rock    | FALSE |\n| 21 | clasica | TRUE  |\n\n",
            "text/latex": "A data.frame: 3 × 3\n\\begin{tabular}{lll}\n edad & music\\_fav & pareja\\\\\n <dbl> & <chr> & <chr>\\\\\n\\hline\n\t 10 & pop     & TRUE \\\\\n\t 15 & rock    & FALSE\\\\\n\t 21 & clasica & TRUE \\\\\n\\end{tabular}\n",
            "text/plain": [
              "  edad music_fav pareja\n",
              "1 10   pop       TRUE  \n",
              "2 15   rock      FALSE \n",
              "3 21   clasica   TRUE  "
            ]
          },
          "metadata": {}
        }
      ]
    },
    {
      "cell_type": "markdown",
      "source": [
        "6. ¿Cuál es el error al correr el siguiente código? ¿A qué se debe?\n",
        "\n",
        "      No podemos crear una matriz con esos datos, no es numérica"
      ],
      "metadata": {
        "id": "xYEFtIJb89Be"
      }
    },
    {
      "cell_type": "code",
      "source": [
        "edad <- c(15, 19, 13, NA, 20)\n",
        "deporte <- c(TRUE, TRUE, NA, FALSE, TRUE)\n",
        "comic_fav <- c(NA, 'Superman', 'Batman', NA, 'Batman')\n",
        "matrix(edad, deporte, comic_fav)"
      ],
      "metadata": {
        "colab": {
          "base_uri": "https://localhost:8080/",
          "height": 131
        },
        "id": "V_LsBo4z9BoD",
        "outputId": "48b31ef1-cbe9-48b8-c63e-3b298d78411c"
      },
      "execution_count": null,
      "outputs": [
        {
          "output_type": "error",
          "ename": "ERROR",
          "evalue": "ignored",
          "traceback": [
            "Error in matrix(edad, deporte, comic_fav): non-numeric matrix extent\nTraceback:\n",
            "1. matrix(edad, deporte, comic_fav)"
          ]
        }
      ]
    }
  ]
}