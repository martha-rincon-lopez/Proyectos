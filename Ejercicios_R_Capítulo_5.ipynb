{
  "nbformat": 4,
  "nbformat_minor": 0,
  "metadata": {
    "colab": {
      "provenance": [],
      "authorship_tag": "ABX9TyOI+KdjlTPJGpzaPnLOH/tr",
      "include_colab_link": true
    },
    "kernelspec": {
      "name": "ir",
      "display_name": "R"
    },
    "language_info": {
      "name": "R"
    }
  },
  "cells": [
    {
      "cell_type": "markdown",
      "metadata": {
        "id": "view-in-github",
        "colab_type": "text"
      },
      "source": [
        "<a href=\"https://colab.research.google.com/github/martha-rincon-lopez/Proyectos/blob/main/Ejercicios_R_Cap%C3%ADtulo_5.ipynb\" target=\"_parent\"><img src=\"https://colab.research.google.com/assets/colab-badge.svg\" alt=\"Open In Colab\"/></a>"
      ]
    },
    {
      "cell_type": "markdown",
      "source": [
        "# **Capítulo 5: Funciones básicas de R**"
      ],
      "metadata": {
        "id": "1t_D1VEH9m_x"
      }
    },
    {
      "cell_type": "markdown",
      "source": [
        "1. ¿Qué cantidad de dinero sobra al repartir $10000 entre 3 personas?"
      ],
      "metadata": {
        "id": "Y4GJm_6A9vje"
      }
    },
    {
      "cell_type": "code",
      "execution_count": null,
      "metadata": {
        "colab": {
          "base_uri": "https://localhost:8080/",
          "height": 34
        },
        "id": "iT8lg1zb9d_D",
        "outputId": "1093cd39-4662-4bb2-8e43-2981186762d1"
      },
      "outputs": [
        {
          "output_type": "display_data",
          "data": {
            "text/html": [
              "1"
            ],
            "text/markdown": "1",
            "text/latex": "1",
            "text/plain": [
              "[1] 1"
            ]
          },
          "metadata": {}
        }
      ],
      "source": [
        "x<-10000%%3\n",
        "x"
      ]
    },
    {
      "cell_type": "markdown",
      "source": [
        "2. ¿Es el número 4560 divisible por 3?"
      ],
      "metadata": {
        "id": "CmcwqS5699vK"
      }
    },
    {
      "cell_type": "code",
      "source": [
        "ifelse(4560%%3==0, 'Es divisible por 3', 'No es divisible por 3')"
      ],
      "metadata": {
        "colab": {
          "base_uri": "https://localhost:8080/",
          "height": 34
        },
        "id": "OJdLBLsL-CiF",
        "outputId": "5d84e757-2b6d-40c8-d881-c173e149e25f"
      },
      "execution_count": null,
      "outputs": [
        {
          "output_type": "display_data",
          "data": {
            "text/html": [
              "'Es divisible por 3'"
            ],
            "text/markdown": "'Es divisible por 3'",
            "text/latex": "'Es divisible por 3'",
            "text/plain": [
              "[1] \"Es divisible por 3\""
            ]
          },
          "metadata": {}
        }
      ]
    },
    {
      "cell_type": "markdown",
      "source": [
        "3. Construya un vector con los números enteros del 2 al 87. ¿Cuáles de esos números son divisibles por 7?"
      ],
      "metadata": {
        "id": "BwlcOIBc-JAI"
      }
    },
    {
      "cell_type": "code",
      "source": [
        "vector <- c(2:87)\n",
        "\n",
        "divisibles <- c(ifelse(vector %% 7 == 0, vector , ''))\n",
        "divisibles[divisibles == vector]"
      ],
      "metadata": {
        "colab": {
          "base_uri": "https://localhost:8080/",
          "height": 34
        },
        "id": "asVzog7I-Qmm",
        "outputId": "6f4a3638-20c8-4d43-8d9b-e474b13a3121"
      },
      "execution_count": null,
      "outputs": [
        {
          "output_type": "display_data",
          "data": {
            "text/html": [
              "<style>\n",
              ".list-inline {list-style: none; margin:0; padding: 0}\n",
              ".list-inline>li {display: inline-block}\n",
              ".list-inline>li:not(:last-child)::after {content: \"\\00b7\"; padding: 0 .5ex}\n",
              "</style>\n",
              "<ol class=list-inline><li>'7'</li><li>'14'</li><li>'21'</li><li>'28'</li><li>'35'</li><li>'42'</li><li>'49'</li><li>'56'</li><li>'63'</li><li>'70'</li><li>'77'</li><li>'84'</li></ol>\n"
            ],
            "text/markdown": "1. '7'\n2. '14'\n3. '21'\n4. '28'\n5. '35'\n6. '42'\n7. '49'\n8. '56'\n9. '63'\n10. '70'\n11. '77'\n12. '84'\n\n\n",
            "text/latex": "\\begin{enumerate*}\n\\item '7'\n\\item '14'\n\\item '21'\n\\item '28'\n\\item '35'\n\\item '42'\n\\item '49'\n\\item '56'\n\\item '63'\n\\item '70'\n\\item '77'\n\\item '84'\n\\end{enumerate*}\n",
            "text/plain": [
              " [1] \"7\"  \"14\" \"21\" \"28\" \"35\" \"42\" \"49\" \"56\" \"63\" \"70\" \"77\" \"84\""
            ]
          },
          "metadata": {}
        }
      ]
    },
    {
      "cell_type": "markdown",
      "source": [
        "4. Construya dos vectores, el primero con los números enteros desde 7 hasta 3, el segundo vector con los primeros cinco números positivos divisibles por 5. Sea A la condición de ser par en el primer vector. Sea B la condición de ser mayor que 10 en el segundo vector. ¿En cuál de las 5 posiciones se cumple A y B simultáneamente?"
      ],
      "metadata": {
        "id": "LGuY4FC_-bNe"
      }
    },
    {
      "cell_type": "code",
      "source": [
        "vector1 <- c(7:3)\n",
        "\n",
        "contador1 <- 0 #contador de numeros\n",
        "num.div <- 1 #contador de números divisibles por 5\n",
        "historial1 <- NULL #vector vacio para almacenar\n",
        "while (num.div < 6){\n",
        "  contador1 <- contador1 + 1\n",
        "  historial1[num.div] <- contador1\n",
        "  if(contador1 %% 5 == 0){\n",
        "    num.div <- num.div + 1\n",
        "  }\n",
        "}\n",
        "vector2 <- c(historial1)\n",
        "\n",
        "Ambos <- c(ifelse(vector1 %% 2 == 0 & vector2 > 10 , rank(-vector1) , ''))\n",
        "print('la posición ')\n",
        "Ambos[Ambos== rank(-vector1)]"
      ],
      "metadata": {
        "colab": {
          "base_uri": "https://localhost:8080/",
          "height": 52
        },
        "id": "4dbOPYgT-eur",
        "outputId": "f147b01b-d997-4813-f566-7206f483d352"
      },
      "execution_count": null,
      "outputs": [
        {
          "output_type": "stream",
          "name": "stdout",
          "text": [
            "[1] \"la posición \"\n"
          ]
        },
        {
          "output_type": "display_data",
          "data": {
            "text/html": [
              "'4'"
            ],
            "text/markdown": "'4'",
            "text/latex": "'4'",
            "text/plain": [
              "[1] \"4\""
            ]
          },
          "metadata": {}
        }
      ]
    },
    {
      "cell_type": "markdown",
      "source": [
        "5. Consulte este enlace en el cual hay una anéctoda de Gauss niño. Use R para obtener el resultado de la suma solicitada por el profesor del niño Gauss."
      ],
      "metadata": {
        "id": "LE0cnLSl-4zp"
      }
    },
    {
      "cell_type": "code",
      "source": [
        "sum(1:100)"
      ],
      "metadata": {
        "colab": {
          "base_uri": "https://localhost:8080/",
          "height": 34
        },
        "id": "fJyhDdYx--cO",
        "outputId": "9d63031a-d6ec-4e1c-92fb-98d10b1a5688"
      },
      "execution_count": null,
      "outputs": [
        {
          "output_type": "display_data",
          "data": {
            "text/html": [
              "5050"
            ],
            "text/markdown": "5050",
            "text/latex": "5050",
            "text/plain": [
              "[1] 5050"
            ]
          },
          "metadata": {}
        }
      ]
    },
    {
      "cell_type": "markdown",
      "source": [
        "6. Construya un vector con los siguientes elementos: 1, -4, 5, 9, -4. Escriba un procedimiento para extraer las posiciones donde está el valor mínimo en el vector."
      ],
      "metadata": {
        "id": "GDEfTKVn_Brj"
      }
    },
    {
      "cell_type": "code",
      "source": [
        "vector3 <- c(1, -4, 5, 9, -4)\n",
        "which(vector3 == min(vector3))"
      ],
      "metadata": {
        "colab": {
          "base_uri": "https://localhost:8080/",
          "height": 34
        },
        "id": "YqkMVlO7_H5B",
        "outputId": "dcd217bb-929a-4a51-c3fb-accff59d77fb"
      },
      "execution_count": null,
      "outputs": [
        {
          "output_type": "display_data",
          "data": {
            "text/html": [
              "<style>\n",
              ".list-inline {list-style: none; margin:0; padding: 0}\n",
              ".list-inline>li {display: inline-block}\n",
              ".list-inline>li:not(:last-child)::after {content: \"\\00b7\"; padding: 0 .5ex}\n",
              "</style>\n",
              "<ol class=list-inline><li>2</li><li>5</li></ol>\n"
            ],
            "text/markdown": "1. 2\n2. 5\n\n\n",
            "text/latex": "\\begin{enumerate*}\n\\item 2\n\\item 5\n\\end{enumerate*}\n",
            "text/plain": [
              "[1] 2 5"
            ]
          },
          "metadata": {}
        }
      ]
    },
    {
      "cell_type": "markdown",
      "source": [
        "7. Calcular 8!"
      ],
      "metadata": {
        "id": "JJPDM1qC_Osi"
      }
    },
    {
      "cell_type": "code",
      "source": [
        "prod(1:8)"
      ],
      "metadata": {
        "colab": {
          "base_uri": "https://localhost:8080/",
          "height": 34
        },
        "id": "3EoH6ccE_SQb",
        "outputId": "38b3a480-b9aa-4179-ef99-c180eb6c5cca"
      },
      "execution_count": null,
      "outputs": [
        {
          "output_type": "display_data",
          "data": {
            "text/html": [
              "40320"
            ],
            "text/markdown": "40320",
            "text/latex": "40320",
            "text/plain": [
              "[1] 40320"
            ]
          },
          "metadata": {}
        }
      ]
    },
    {
      "cell_type": "markdown",
      "source": [
        "8. Evaluar la suma ![ej 7.png](data:image/png;base64,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)"
      ],
      "metadata": {
        "id": "PJeH-6HX_YEH"
      }
    },
    {
      "cell_type": "code",
      "source": [
        "x1 <- 0\n",
        "for(i in 3:7){\n",
        "  x1 <- x1 + exp(i)\n",
        "}\n",
        "x1"
      ],
      "metadata": {
        "colab": {
          "base_uri": "https://localhost:8080/",
          "height": 34
        },
        "id": "e8TX02q_AVNO",
        "outputId": "aa0a9e33-fa78-4925-dbe9-a98f242ba339"
      },
      "execution_count": null,
      "outputs": [
        {
          "output_type": "display_data",
          "data": {
            "text/html": [
              "1723.1587979801"
            ],
            "text/markdown": "1723.1587979801",
            "text/latex": "1723.1587979801",
            "text/plain": [
              "[1] 1723.159"
            ]
          },
          "metadata": {}
        }
      ]
    },
    {
      "cell_type": "markdown",
      "source": [
        "9. Evaluar la siguiente productoria: ![cap 5 ej 9.png](data:image/png;base64,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)"
      ],
      "metadata": {
        "id": "ILaGNbQD_YCi"
      }
    },
    {
      "cell_type": "code",
      "source": [
        "x2 <- 1\n",
        "for(i in 1:10){\n",
        "  x2 <- x2*log(sqrt(i))\n",
        "}\n",
        "x2"
      ],
      "metadata": {
        "colab": {
          "base_uri": "https://localhost:8080/",
          "height": 34
        },
        "id": "qOa5YjvbBNIX",
        "outputId": "778dc880-3b5f-4ee8-8643-6f89b43c756d"
      },
      "execution_count": null,
      "outputs": [
        {
          "output_type": "display_data",
          "data": {
            "text/html": [
              "0"
            ],
            "text/markdown": "0",
            "text/latex": "0",
            "text/plain": [
              "[1] 0"
            ]
          },
          "metadata": {}
        }
      ]
    },
    {
      "cell_type": "markdown",
      "source": [
        "10. Construya un vector cualquiera e inviertalo, es decir, que el primer elemento quede de último, el segundo de penúltimo y así sucesivamente. Compare su resultado con el de la función rev."
      ],
      "metadata": {
        "id": "ugEDnGcDBR9F"
      }
    },
    {
      "cell_type": "code",
      "source": [
        "v4 <- c(1, 2, 3, 4, 5)\n",
        "lon <- length(v4)\n",
        "\n",
        "for (i in lon:1){\n",
        "  ind <- lon - (lon - i)\n",
        "  x_inv <- c(v4[ind])\n",
        "  print(x_inv)\n",
        "}"
      ],
      "metadata": {
        "colab": {
          "base_uri": "https://localhost:8080/"
        },
        "id": "64k--7Y8BVPp",
        "outputId": "146a870d-d44c-4bb9-c401-dc8ca6f7490f"
      },
      "execution_count": null,
      "outputs": [
        {
          "output_type": "stream",
          "name": "stdout",
          "text": [
            "[1] 5\n",
            "[1] 4\n",
            "[1] 3\n",
            "[1] 2\n",
            "[1] 1\n"
          ]
        }
      ]
    },
    {
      "cell_type": "code",
      "source": [
        "rev(v4)"
      ],
      "metadata": {
        "colab": {
          "base_uri": "https://localhost:8080/",
          "height": 34
        },
        "id": "IE4UXsBVBZ2R",
        "outputId": "50130cfa-777a-4faa-b449-8e47b86ad8bc"
      },
      "execution_count": null,
      "outputs": [
        {
          "output_type": "display_data",
          "data": {
            "text/html": [
              "<style>\n",
              ".list-inline {list-style: none; margin:0; padding: 0}\n",
              ".list-inline>li {display: inline-block}\n",
              ".list-inline>li:not(:last-child)::after {content: \"\\00b7\"; padding: 0 .5ex}\n",
              "</style>\n",
              "<ol class=list-inline><li>5</li><li>4</li><li>3</li><li>2</li><li>1</li></ol>\n"
            ],
            "text/markdown": "1. 5\n2. 4\n3. 3\n4. 2\n5. 1\n\n\n",
            "text/latex": "\\begin{enumerate*}\n\\item 5\n\\item 4\n\\item 3\n\\item 2\n\\item 1\n\\end{enumerate*}\n",
            "text/plain": [
              "[1] 5 4 3 2 1"
            ]
          },
          "metadata": {}
        }
      ]
    },
    {
      "cell_type": "markdown",
      "source": [
        "11. Create the vector:  **1, 2, 3, ..., 19, 20**"
      ],
      "metadata": {
        "id": "YFkOEx_VBdxS"
      }
    },
    {
      "cell_type": "code",
      "source": [
        "v5 <- c(1:20)\n",
        "v5"
      ],
      "metadata": {
        "colab": {
          "base_uri": "https://localhost:8080/",
          "height": 34
        },
        "id": "MaRBLMrYBitA",
        "outputId": "17b2ba13-541a-4ee0-b425-c1c11c4f5dda"
      },
      "execution_count": null,
      "outputs": [
        {
          "output_type": "display_data",
          "data": {
            "text/html": [
              "<style>\n",
              ".list-inline {list-style: none; margin:0; padding: 0}\n",
              ".list-inline>li {display: inline-block}\n",
              ".list-inline>li:not(:last-child)::after {content: \"\\00b7\"; padding: 0 .5ex}\n",
              "</style>\n",
              "<ol class=list-inline><li>1</li><li>2</li><li>3</li><li>4</li><li>5</li><li>6</li><li>7</li><li>8</li><li>9</li><li>10</li><li>11</li><li>12</li><li>13</li><li>14</li><li>15</li><li>16</li><li>17</li><li>18</li><li>19</li><li>20</li></ol>\n"
            ],
            "text/markdown": "1. 1\n2. 2\n3. 3\n4. 4\n5. 5\n6. 6\n7. 7\n8. 8\n9. 9\n10. 10\n11. 11\n12. 12\n13. 13\n14. 14\n15. 15\n16. 16\n17. 17\n18. 18\n19. 19\n20. 20\n\n\n",
            "text/latex": "\\begin{enumerate*}\n\\item 1\n\\item 2\n\\item 3\n\\item 4\n\\item 5\n\\item 6\n\\item 7\n\\item 8\n\\item 9\n\\item 10\n\\item 11\n\\item 12\n\\item 13\n\\item 14\n\\item 15\n\\item 16\n\\item 17\n\\item 18\n\\item 19\n\\item 20\n\\end{enumerate*}\n",
            "text/plain": [
              " [1]  1  2  3  4  5  6  7  8  9 10 11 12 13 14 15 16 17 18 19 20"
            ]
          },
          "metadata": {}
        }
      ]
    },
    {
      "cell_type": "markdown",
      "source": [
        "12. Create the vector: **20, 19, ..., 2, 1**"
      ],
      "metadata": {
        "id": "b1O-w9N3BnPz"
      }
    },
    {
      "cell_type": "code",
      "source": [
        "v6 <- c(20:1)\n",
        "v6"
      ],
      "metadata": {
        "colab": {
          "base_uri": "https://localhost:8080/",
          "height": 34
        },
        "id": "Zrjpv9svBrSB",
        "outputId": "e9d1eb89-e621-4297-8ff3-85776db7f092"
      },
      "execution_count": null,
      "outputs": [
        {
          "output_type": "display_data",
          "data": {
            "text/html": [
              "<style>\n",
              ".list-inline {list-style: none; margin:0; padding: 0}\n",
              ".list-inline>li {display: inline-block}\n",
              ".list-inline>li:not(:last-child)::after {content: \"\\00b7\"; padding: 0 .5ex}\n",
              "</style>\n",
              "<ol class=list-inline><li>20</li><li>19</li><li>18</li><li>17</li><li>16</li><li>15</li><li>14</li><li>13</li><li>12</li><li>11</li><li>10</li><li>9</li><li>8</li><li>7</li><li>6</li><li>5</li><li>4</li><li>3</li><li>2</li><li>1</li></ol>\n"
            ],
            "text/markdown": "1. 20\n2. 19\n3. 18\n4. 17\n5. 16\n6. 15\n7. 14\n8. 13\n9. 12\n10. 11\n11. 10\n12. 9\n13. 8\n14. 7\n15. 6\n16. 5\n17. 4\n18. 3\n19. 2\n20. 1\n\n\n",
            "text/latex": "\\begin{enumerate*}\n\\item 20\n\\item 19\n\\item 18\n\\item 17\n\\item 16\n\\item 15\n\\item 14\n\\item 13\n\\item 12\n\\item 11\n\\item 10\n\\item 9\n\\item 8\n\\item 7\n\\item 6\n\\item 5\n\\item 4\n\\item 3\n\\item 2\n\\item 1\n\\end{enumerate*}\n",
            "text/plain": [
              " [1] 20 19 18 17 16 15 14 13 12 11 10  9  8  7  6  5  4  3  2  1"
            ]
          },
          "metadata": {}
        }
      ]
    },
    {
      "cell_type": "markdown",
      "source": [
        "13. Create the vector: **1, -2, 3, -4, 5, -6, ..., 19, -20**"
      ],
      "metadata": {
        "id": "FjL2viUSCejO"
      }
    },
    {
      "cell_type": "code",
      "source": [
        "v7 <- c(1:20)\n",
        "v8 <- ifelse(v7 %% 2 == 0, v7 * -1, v7)\n",
        "v8"
      ],
      "metadata": {
        "colab": {
          "base_uri": "https://localhost:8080/",
          "height": 34
        },
        "id": "z4Gv_WZ5Cnfv",
        "outputId": "bb5d921b-0cc3-4d96-cba9-3696d5690499"
      },
      "execution_count": null,
      "outputs": [
        {
          "output_type": "display_data",
          "data": {
            "text/html": [
              "<style>\n",
              ".list-inline {list-style: none; margin:0; padding: 0}\n",
              ".list-inline>li {display: inline-block}\n",
              ".list-inline>li:not(:last-child)::after {content: \"\\00b7\"; padding: 0 .5ex}\n",
              "</style>\n",
              "<ol class=list-inline><li>1</li><li>-2</li><li>3</li><li>-4</li><li>5</li><li>-6</li><li>7</li><li>-8</li><li>9</li><li>-10</li><li>11</li><li>-12</li><li>13</li><li>-14</li><li>15</li><li>-16</li><li>17</li><li>-18</li><li>19</li><li>-20</li></ol>\n"
            ],
            "text/markdown": "1. 1\n2. -2\n3. 3\n4. -4\n5. 5\n6. -6\n7. 7\n8. -8\n9. 9\n10. -10\n11. 11\n12. -12\n13. 13\n14. -14\n15. 15\n16. -16\n17. 17\n18. -18\n19. 19\n20. -20\n\n\n",
            "text/latex": "\\begin{enumerate*}\n\\item 1\n\\item -2\n\\item 3\n\\item -4\n\\item 5\n\\item -6\n\\item 7\n\\item -8\n\\item 9\n\\item -10\n\\item 11\n\\item -12\n\\item 13\n\\item -14\n\\item 15\n\\item -16\n\\item 17\n\\item -18\n\\item 19\n\\item -20\n\\end{enumerate*}\n",
            "text/plain": [
              " [1]   1  -2   3  -4   5  -6   7  -8   9 -10  11 -12  13 -14  15 -16  17 -18  19\n",
              "[20] -20"
            ]
          },
          "metadata": {}
        }
      ]
    },
    {
      "cell_type": "markdown",
      "source": [
        "14. Create the vector:** 0.1^3, 0.2^1, 0.1^6, 0.2^4, ..., 0.1^36, 02^34**"
      ],
      "metadata": {
        "id": "felsRNm8Ct1Y"
      }
    },
    {
      "cell_type": "code",
      "source": [
        "v9 <- rep(x=c(0.1,0.2), len=24)\n"
      ],
      "metadata": {
        "colab": {
          "base_uri": "https://localhost:8080/",
          "height": 34
        },
        "id": "UWlE7nI5C0a8",
        "outputId": "0b011fcc-34ae-4773-e589-970ad607a1cf"
      },
      "execution_count": null,
      "outputs": [
        {
          "output_type": "display_data",
          "data": {
            "text/html": [
              "<style>\n",
              ".list-inline {list-style: none; margin:0; padding: 0}\n",
              ".list-inline>li {display: inline-block}\n",
              ".list-inline>li:not(:last-child)::after {content: \"\\00b7\"; padding: 0 .5ex}\n",
              "</style>\n",
              "<ol class=list-inline><li>0.1</li><li>0.2</li><li>0.1</li><li>0.2</li><li>0.1</li><li>0.2</li><li>0.1</li><li>0.2</li><li>0.1</li><li>0.2</li><li>0.1</li><li>0.2</li><li>0.1</li><li>0.2</li><li>0.1</li><li>0.2</li><li>0.1</li><li>0.2</li><li>0.1</li><li>0.2</li><li>0.1</li><li>0.2</li><li>0.1</li><li>0.2</li></ol>\n"
            ],
            "text/markdown": "1. 0.1\n2. 0.2\n3. 0.1\n4. 0.2\n5. 0.1\n6. 0.2\n7. 0.1\n8. 0.2\n9. 0.1\n10. 0.2\n11. 0.1\n12. 0.2\n13. 0.1\n14. 0.2\n15. 0.1\n16. 0.2\n17. 0.1\n18. 0.2\n19. 0.1\n20. 0.2\n21. 0.1\n22. 0.2\n23. 0.1\n24. 0.2\n\n\n",
            "text/latex": "\\begin{enumerate*}\n\\item 0.1\n\\item 0.2\n\\item 0.1\n\\item 0.2\n\\item 0.1\n\\item 0.2\n\\item 0.1\n\\item 0.2\n\\item 0.1\n\\item 0.2\n\\item 0.1\n\\item 0.2\n\\item 0.1\n\\item 0.2\n\\item 0.1\n\\item 0.2\n\\item 0.1\n\\item 0.2\n\\item 0.1\n\\item 0.2\n\\item 0.1\n\\item 0.2\n\\item 0.1\n\\item 0.2\n\\end{enumerate*}\n",
            "text/plain": [
              " [1] 0.1 0.2 0.1 0.2 0.1 0.2 0.1 0.2 0.1 0.2 0.1 0.2 0.1 0.2 0.1 0.2 0.1 0.2 0.1\n",
              "[20] 0.2 0.1 0.2 0.1 0.2"
            ]
          },
          "metadata": {}
        }
      ]
    },
    {
      "cell_type": "markdown",
      "source": [
        "15. Calcule lo siguiente: ![cap 5 ej 15.png](data:image/png;base64,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)"
      ],
      "metadata": {
        "id": "vneqTGx6C60w"
      }
    },
    {
      "cell_type": "code",
      "source": [
        "x3 <- 0\n",
        "for(i in 10:100){\n",
        "  x3 <- x3 + i^3 + (4*i^2)\n",
        "}\n",
        "x3"
      ],
      "metadata": {
        "colab": {
          "base_uri": "https://localhost:8080/",
          "height": 34
        },
        "id": "Tu8ktdj3DYuT",
        "outputId": "49a952cd-4e04-4ce6-9b25-6ed648102cde"
      },
      "execution_count": null,
      "outputs": [
        {
          "output_type": "display_data",
          "data": {
            "text/html": [
              "26852735"
            ],
            "text/markdown": "26852735",
            "text/latex": "26852735",
            "text/plain": [
              "[1] 26852735"
            ]
          },
          "metadata": {}
        }
      ]
    },
    {
      "cell_type": "code",
      "source": [
        "x4 <- 0\n",
        "for(i in 1:25){\n",
        "  x4 <- x4 + ((2^i/i) + (3^i/i^2))\n",
        "}\n",
        "x4"
      ],
      "metadata": {
        "colab": {
          "base_uri": "https://localhost:8080/",
          "height": 34
        },
        "id": "Dr7w5NWRDexp",
        "outputId": "55cc1b9a-0edc-44f1-d28e-0c92bb012490"
      },
      "execution_count": null,
      "outputs": [
        {
          "output_type": "display_data",
          "data": {
            "text/html": [
              "2129170436.81438"
            ],
            "text/markdown": "2129170436.81438",
            "text/latex": "2129170436.81438",
            "text/plain": [
              "[1] 2129170437"
            ]
          },
          "metadata": {}
        }
      ]
    },
    {
      "cell_type": "markdown",
      "source": [],
      "metadata": {
        "id": "Zo5Cr-WyDj3a"
      }
    },
    {
      "cell_type": "markdown",
      "source": [
        "En R hay unas bases de datos incluídas, una de ellas es la base de datos llamada mtcars. Para conocer las variables que están en mtcars usted puede escribir en la consola ?mtcars o también help(mtcars). De la base mtcars obtenga bases de datos que cumplan las siguientes condiciones."
      ],
      "metadata": {
        "id": "sL7GyiGtDtKM"
      }
    },
    {
      "cell_type": "code",
      "source": [
        "help(mtcars)"
      ],
      "metadata": {
        "id": "CW_Wj88EDx3o"
      },
      "execution_count": null,
      "outputs": []
    },
    {
      "cell_type": "markdown",
      "source": [
        "Los datos se extrajeron de la revista estadounidense Motor Trend de 1974 y comprenden el consumo de combustible y 10 aspectos del diseño y rendimiento del automóvil para 32 automóviles (modelos 1973 - 74)\n",
        "\n",
        "Un marco de datos con 32 observaciones sobre 11 variables (numéricas)\n",
        "\n",
        "*   **mpg** Millas/ galón (EE.UU.)\n",
        "*   **cyl** Número de cilindros\n",
        "*   **disp** Desplazamiento\n",
        "*   **hp** Potencia bruta\n",
        "*   **drat** Relación del eje trasero\n",
        "*   **wt** Peso (1000 lbs)\n",
        "*   **qsec** 1/4 de milla de tiempo\n",
        "*   **vs** Motor (0 = forma de V, 1= recto)\n",
        "*   **am** Transmisión ( 0 = automática, 1 = manual)\n",
        "*   **gear** Número de marchas hacia adelante\n",
        "*   **carb** Número de carburadores"
      ],
      "metadata": {
        "id": "ABzzagH_Dunk"
      }
    },
    {
      "cell_type": "code",
      "source": [
        "mtcars"
      ],
      "metadata": {
        "colab": {
          "base_uri": "https://localhost:8080/",
          "height": 1000
        },
        "id": "7Zf1jPaUD9CK",
        "outputId": "4feef68d-e75d-4fa4-ae52-17a314ba713d"
      },
      "execution_count": null,
      "outputs": [
        {
          "output_type": "display_data",
          "data": {
            "text/html": [
              "<table class=\"dataframe\">\n",
              "<caption>A data.frame: 32 × 11</caption>\n",
              "<thead>\n",
              "\t<tr><th></th><th scope=col>mpg</th><th scope=col>cyl</th><th scope=col>disp</th><th scope=col>hp</th><th scope=col>drat</th><th scope=col>wt</th><th scope=col>qsec</th><th scope=col>vs</th><th scope=col>am</th><th scope=col>gear</th><th scope=col>carb</th></tr>\n",
              "\t<tr><th></th><th scope=col>&lt;dbl&gt;</th><th scope=col>&lt;dbl&gt;</th><th scope=col>&lt;dbl&gt;</th><th scope=col>&lt;dbl&gt;</th><th scope=col>&lt;dbl&gt;</th><th scope=col>&lt;dbl&gt;</th><th scope=col>&lt;dbl&gt;</th><th scope=col>&lt;dbl&gt;</th><th scope=col>&lt;dbl&gt;</th><th scope=col>&lt;dbl&gt;</th><th scope=col>&lt;dbl&gt;</th></tr>\n",
              "</thead>\n",
              "<tbody>\n",
              "\t<tr><th scope=row>Mazda RX4</th><td>21.0</td><td>6</td><td>160.0</td><td>110</td><td>3.90</td><td>2.620</td><td>16.46</td><td>0</td><td>1</td><td>4</td><td>4</td></tr>\n",
              "\t<tr><th scope=row>Mazda RX4 Wag</th><td>21.0</td><td>6</td><td>160.0</td><td>110</td><td>3.90</td><td>2.875</td><td>17.02</td><td>0</td><td>1</td><td>4</td><td>4</td></tr>\n",
              "\t<tr><th scope=row>Datsun 710</th><td>22.8</td><td>4</td><td>108.0</td><td> 93</td><td>3.85</td><td>2.320</td><td>18.61</td><td>1</td><td>1</td><td>4</td><td>1</td></tr>\n",
              "\t<tr><th scope=row>Hornet 4 Drive</th><td>21.4</td><td>6</td><td>258.0</td><td>110</td><td>3.08</td><td>3.215</td><td>19.44</td><td>1</td><td>0</td><td>3</td><td>1</td></tr>\n",
              "\t<tr><th scope=row>Hornet Sportabout</th><td>18.7</td><td>8</td><td>360.0</td><td>175</td><td>3.15</td><td>3.440</td><td>17.02</td><td>0</td><td>0</td><td>3</td><td>2</td></tr>\n",
              "\t<tr><th scope=row>Valiant</th><td>18.1</td><td>6</td><td>225.0</td><td>105</td><td>2.76</td><td>3.460</td><td>20.22</td><td>1</td><td>0</td><td>3</td><td>1</td></tr>\n",
              "\t<tr><th scope=row>Duster 360</th><td>14.3</td><td>8</td><td>360.0</td><td>245</td><td>3.21</td><td>3.570</td><td>15.84</td><td>0</td><td>0</td><td>3</td><td>4</td></tr>\n",
              "\t<tr><th scope=row>Merc 240D</th><td>24.4</td><td>4</td><td>146.7</td><td> 62</td><td>3.69</td><td>3.190</td><td>20.00</td><td>1</td><td>0</td><td>4</td><td>2</td></tr>\n",
              "\t<tr><th scope=row>Merc 230</th><td>22.8</td><td>4</td><td>140.8</td><td> 95</td><td>3.92</td><td>3.150</td><td>22.90</td><td>1</td><td>0</td><td>4</td><td>2</td></tr>\n",
              "\t<tr><th scope=row>Merc 280</th><td>19.2</td><td>6</td><td>167.6</td><td>123</td><td>3.92</td><td>3.440</td><td>18.30</td><td>1</td><td>0</td><td>4</td><td>4</td></tr>\n",
              "\t<tr><th scope=row>Merc 280C</th><td>17.8</td><td>6</td><td>167.6</td><td>123</td><td>3.92</td><td>3.440</td><td>18.90</td><td>1</td><td>0</td><td>4</td><td>4</td></tr>\n",
              "\t<tr><th scope=row>Merc 450SE</th><td>16.4</td><td>8</td><td>275.8</td><td>180</td><td>3.07</td><td>4.070</td><td>17.40</td><td>0</td><td>0</td><td>3</td><td>3</td></tr>\n",
              "\t<tr><th scope=row>Merc 450SL</th><td>17.3</td><td>8</td><td>275.8</td><td>180</td><td>3.07</td><td>3.730</td><td>17.60</td><td>0</td><td>0</td><td>3</td><td>3</td></tr>\n",
              "\t<tr><th scope=row>Merc 450SLC</th><td>15.2</td><td>8</td><td>275.8</td><td>180</td><td>3.07</td><td>3.780</td><td>18.00</td><td>0</td><td>0</td><td>3</td><td>3</td></tr>\n",
              "\t<tr><th scope=row>Cadillac Fleetwood</th><td>10.4</td><td>8</td><td>472.0</td><td>205</td><td>2.93</td><td>5.250</td><td>17.98</td><td>0</td><td>0</td><td>3</td><td>4</td></tr>\n",
              "\t<tr><th scope=row>Lincoln Continental</th><td>10.4</td><td>8</td><td>460.0</td><td>215</td><td>3.00</td><td>5.424</td><td>17.82</td><td>0</td><td>0</td><td>3</td><td>4</td></tr>\n",
              "\t<tr><th scope=row>Chrysler Imperial</th><td>14.7</td><td>8</td><td>440.0</td><td>230</td><td>3.23</td><td>5.345</td><td>17.42</td><td>0</td><td>0</td><td>3</td><td>4</td></tr>\n",
              "\t<tr><th scope=row>Fiat 128</th><td>32.4</td><td>4</td><td> 78.7</td><td> 66</td><td>4.08</td><td>2.200</td><td>19.47</td><td>1</td><td>1</td><td>4</td><td>1</td></tr>\n",
              "\t<tr><th scope=row>Honda Civic</th><td>30.4</td><td>4</td><td> 75.7</td><td> 52</td><td>4.93</td><td>1.615</td><td>18.52</td><td>1</td><td>1</td><td>4</td><td>2</td></tr>\n",
              "\t<tr><th scope=row>Toyota Corolla</th><td>33.9</td><td>4</td><td> 71.1</td><td> 65</td><td>4.22</td><td>1.835</td><td>19.90</td><td>1</td><td>1</td><td>4</td><td>1</td></tr>\n",
              "\t<tr><th scope=row>Toyota Corona</th><td>21.5</td><td>4</td><td>120.1</td><td> 97</td><td>3.70</td><td>2.465</td><td>20.01</td><td>1</td><td>0</td><td>3</td><td>1</td></tr>\n",
              "\t<tr><th scope=row>Dodge Challenger</th><td>15.5</td><td>8</td><td>318.0</td><td>150</td><td>2.76</td><td>3.520</td><td>16.87</td><td>0</td><td>0</td><td>3</td><td>2</td></tr>\n",
              "\t<tr><th scope=row>AMC Javelin</th><td>15.2</td><td>8</td><td>304.0</td><td>150</td><td>3.15</td><td>3.435</td><td>17.30</td><td>0</td><td>0</td><td>3</td><td>2</td></tr>\n",
              "\t<tr><th scope=row>Camaro Z28</th><td>13.3</td><td>8</td><td>350.0</td><td>245</td><td>3.73</td><td>3.840</td><td>15.41</td><td>0</td><td>0</td><td>3</td><td>4</td></tr>\n",
              "\t<tr><th scope=row>Pontiac Firebird</th><td>19.2</td><td>8</td><td>400.0</td><td>175</td><td>3.08</td><td>3.845</td><td>17.05</td><td>0</td><td>0</td><td>3</td><td>2</td></tr>\n",
              "\t<tr><th scope=row>Fiat X1-9</th><td>27.3</td><td>4</td><td> 79.0</td><td> 66</td><td>4.08</td><td>1.935</td><td>18.90</td><td>1</td><td>1</td><td>4</td><td>1</td></tr>\n",
              "\t<tr><th scope=row>Porsche 914-2</th><td>26.0</td><td>4</td><td>120.3</td><td> 91</td><td>4.43</td><td>2.140</td><td>16.70</td><td>0</td><td>1</td><td>5</td><td>2</td></tr>\n",
              "\t<tr><th scope=row>Lotus Europa</th><td>30.4</td><td>4</td><td> 95.1</td><td>113</td><td>3.77</td><td>1.513</td><td>16.90</td><td>1</td><td>1</td><td>5</td><td>2</td></tr>\n",
              "\t<tr><th scope=row>Ford Pantera L</th><td>15.8</td><td>8</td><td>351.0</td><td>264</td><td>4.22</td><td>3.170</td><td>14.50</td><td>0</td><td>1</td><td>5</td><td>4</td></tr>\n",
              "\t<tr><th scope=row>Ferrari Dino</th><td>19.7</td><td>6</td><td>145.0</td><td>175</td><td>3.62</td><td>2.770</td><td>15.50</td><td>0</td><td>1</td><td>5</td><td>6</td></tr>\n",
              "\t<tr><th scope=row>Maserati Bora</th><td>15.0</td><td>8</td><td>301.0</td><td>335</td><td>3.54</td><td>3.570</td><td>14.60</td><td>0</td><td>1</td><td>5</td><td>8</td></tr>\n",
              "\t<tr><th scope=row>Volvo 142E</th><td>21.4</td><td>4</td><td>121.0</td><td>109</td><td>4.11</td><td>2.780</td><td>18.60</td><td>1</td><td>1</td><td>4</td><td>2</td></tr>\n",
              "</tbody>\n",
              "</table>\n"
            ],
            "text/markdown": "\nA data.frame: 32 × 11\n\n| <!--/--> | mpg &lt;dbl&gt; | cyl &lt;dbl&gt; | disp &lt;dbl&gt; | hp &lt;dbl&gt; | drat &lt;dbl&gt; | wt &lt;dbl&gt; | qsec &lt;dbl&gt; | vs &lt;dbl&gt; | am &lt;dbl&gt; | gear &lt;dbl&gt; | carb &lt;dbl&gt; |\n|---|---|---|---|---|---|---|---|---|---|---|---|\n| Mazda RX4 | 21.0 | 6 | 160.0 | 110 | 3.90 | 2.620 | 16.46 | 0 | 1 | 4 | 4 |\n| Mazda RX4 Wag | 21.0 | 6 | 160.0 | 110 | 3.90 | 2.875 | 17.02 | 0 | 1 | 4 | 4 |\n| Datsun 710 | 22.8 | 4 | 108.0 |  93 | 3.85 | 2.320 | 18.61 | 1 | 1 | 4 | 1 |\n| Hornet 4 Drive | 21.4 | 6 | 258.0 | 110 | 3.08 | 3.215 | 19.44 | 1 | 0 | 3 | 1 |\n| Hornet Sportabout | 18.7 | 8 | 360.0 | 175 | 3.15 | 3.440 | 17.02 | 0 | 0 | 3 | 2 |\n| Valiant | 18.1 | 6 | 225.0 | 105 | 2.76 | 3.460 | 20.22 | 1 | 0 | 3 | 1 |\n| Duster 360 | 14.3 | 8 | 360.0 | 245 | 3.21 | 3.570 | 15.84 | 0 | 0 | 3 | 4 |\n| Merc 240D | 24.4 | 4 | 146.7 |  62 | 3.69 | 3.190 | 20.00 | 1 | 0 | 4 | 2 |\n| Merc 230 | 22.8 | 4 | 140.8 |  95 | 3.92 | 3.150 | 22.90 | 1 | 0 | 4 | 2 |\n| Merc 280 | 19.2 | 6 | 167.6 | 123 | 3.92 | 3.440 | 18.30 | 1 | 0 | 4 | 4 |\n| Merc 280C | 17.8 | 6 | 167.6 | 123 | 3.92 | 3.440 | 18.90 | 1 | 0 | 4 | 4 |\n| Merc 450SE | 16.4 | 8 | 275.8 | 180 | 3.07 | 4.070 | 17.40 | 0 | 0 | 3 | 3 |\n| Merc 450SL | 17.3 | 8 | 275.8 | 180 | 3.07 | 3.730 | 17.60 | 0 | 0 | 3 | 3 |\n| Merc 450SLC | 15.2 | 8 | 275.8 | 180 | 3.07 | 3.780 | 18.00 | 0 | 0 | 3 | 3 |\n| Cadillac Fleetwood | 10.4 | 8 | 472.0 | 205 | 2.93 | 5.250 | 17.98 | 0 | 0 | 3 | 4 |\n| Lincoln Continental | 10.4 | 8 | 460.0 | 215 | 3.00 | 5.424 | 17.82 | 0 | 0 | 3 | 4 |\n| Chrysler Imperial | 14.7 | 8 | 440.0 | 230 | 3.23 | 5.345 | 17.42 | 0 | 0 | 3 | 4 |\n| Fiat 128 | 32.4 | 4 |  78.7 |  66 | 4.08 | 2.200 | 19.47 | 1 | 1 | 4 | 1 |\n| Honda Civic | 30.4 | 4 |  75.7 |  52 | 4.93 | 1.615 | 18.52 | 1 | 1 | 4 | 2 |\n| Toyota Corolla | 33.9 | 4 |  71.1 |  65 | 4.22 | 1.835 | 19.90 | 1 | 1 | 4 | 1 |\n| Toyota Corona | 21.5 | 4 | 120.1 |  97 | 3.70 | 2.465 | 20.01 | 1 | 0 | 3 | 1 |\n| Dodge Challenger | 15.5 | 8 | 318.0 | 150 | 2.76 | 3.520 | 16.87 | 0 | 0 | 3 | 2 |\n| AMC Javelin | 15.2 | 8 | 304.0 | 150 | 3.15 | 3.435 | 17.30 | 0 | 0 | 3 | 2 |\n| Camaro Z28 | 13.3 | 8 | 350.0 | 245 | 3.73 | 3.840 | 15.41 | 0 | 0 | 3 | 4 |\n| Pontiac Firebird | 19.2 | 8 | 400.0 | 175 | 3.08 | 3.845 | 17.05 | 0 | 0 | 3 | 2 |\n| Fiat X1-9 | 27.3 | 4 |  79.0 |  66 | 4.08 | 1.935 | 18.90 | 1 | 1 | 4 | 1 |\n| Porsche 914-2 | 26.0 | 4 | 120.3 |  91 | 4.43 | 2.140 | 16.70 | 0 | 1 | 5 | 2 |\n| Lotus Europa | 30.4 | 4 |  95.1 | 113 | 3.77 | 1.513 | 16.90 | 1 | 1 | 5 | 2 |\n| Ford Pantera L | 15.8 | 8 | 351.0 | 264 | 4.22 | 3.170 | 14.50 | 0 | 1 | 5 | 4 |\n| Ferrari Dino | 19.7 | 6 | 145.0 | 175 | 3.62 | 2.770 | 15.50 | 0 | 1 | 5 | 6 |\n| Maserati Bora | 15.0 | 8 | 301.0 | 335 | 3.54 | 3.570 | 14.60 | 0 | 1 | 5 | 8 |\n| Volvo 142E | 21.4 | 4 | 121.0 | 109 | 4.11 | 2.780 | 18.60 | 1 | 1 | 4 | 2 |\n\n",
            "text/latex": "A data.frame: 32 × 11\n\\begin{tabular}{r|lllllllllll}\n  & mpg & cyl & disp & hp & drat & wt & qsec & vs & am & gear & carb\\\\\n  & <dbl> & <dbl> & <dbl> & <dbl> & <dbl> & <dbl> & <dbl> & <dbl> & <dbl> & <dbl> & <dbl>\\\\\n\\hline\n\tMazda RX4 & 21.0 & 6 & 160.0 & 110 & 3.90 & 2.620 & 16.46 & 0 & 1 & 4 & 4\\\\\n\tMazda RX4 Wag & 21.0 & 6 & 160.0 & 110 & 3.90 & 2.875 & 17.02 & 0 & 1 & 4 & 4\\\\\n\tDatsun 710 & 22.8 & 4 & 108.0 &  93 & 3.85 & 2.320 & 18.61 & 1 & 1 & 4 & 1\\\\\n\tHornet 4 Drive & 21.4 & 6 & 258.0 & 110 & 3.08 & 3.215 & 19.44 & 1 & 0 & 3 & 1\\\\\n\tHornet Sportabout & 18.7 & 8 & 360.0 & 175 & 3.15 & 3.440 & 17.02 & 0 & 0 & 3 & 2\\\\\n\tValiant & 18.1 & 6 & 225.0 & 105 & 2.76 & 3.460 & 20.22 & 1 & 0 & 3 & 1\\\\\n\tDuster 360 & 14.3 & 8 & 360.0 & 245 & 3.21 & 3.570 & 15.84 & 0 & 0 & 3 & 4\\\\\n\tMerc 240D & 24.4 & 4 & 146.7 &  62 & 3.69 & 3.190 & 20.00 & 1 & 0 & 4 & 2\\\\\n\tMerc 230 & 22.8 & 4 & 140.8 &  95 & 3.92 & 3.150 & 22.90 & 1 & 0 & 4 & 2\\\\\n\tMerc 280 & 19.2 & 6 & 167.6 & 123 & 3.92 & 3.440 & 18.30 & 1 & 0 & 4 & 4\\\\\n\tMerc 280C & 17.8 & 6 & 167.6 & 123 & 3.92 & 3.440 & 18.90 & 1 & 0 & 4 & 4\\\\\n\tMerc 450SE & 16.4 & 8 & 275.8 & 180 & 3.07 & 4.070 & 17.40 & 0 & 0 & 3 & 3\\\\\n\tMerc 450SL & 17.3 & 8 & 275.8 & 180 & 3.07 & 3.730 & 17.60 & 0 & 0 & 3 & 3\\\\\n\tMerc 450SLC & 15.2 & 8 & 275.8 & 180 & 3.07 & 3.780 & 18.00 & 0 & 0 & 3 & 3\\\\\n\tCadillac Fleetwood & 10.4 & 8 & 472.0 & 205 & 2.93 & 5.250 & 17.98 & 0 & 0 & 3 & 4\\\\\n\tLincoln Continental & 10.4 & 8 & 460.0 & 215 & 3.00 & 5.424 & 17.82 & 0 & 0 & 3 & 4\\\\\n\tChrysler Imperial & 14.7 & 8 & 440.0 & 230 & 3.23 & 5.345 & 17.42 & 0 & 0 & 3 & 4\\\\\n\tFiat 128 & 32.4 & 4 &  78.7 &  66 & 4.08 & 2.200 & 19.47 & 1 & 1 & 4 & 1\\\\\n\tHonda Civic & 30.4 & 4 &  75.7 &  52 & 4.93 & 1.615 & 18.52 & 1 & 1 & 4 & 2\\\\\n\tToyota Corolla & 33.9 & 4 &  71.1 &  65 & 4.22 & 1.835 & 19.90 & 1 & 1 & 4 & 1\\\\\n\tToyota Corona & 21.5 & 4 & 120.1 &  97 & 3.70 & 2.465 & 20.01 & 1 & 0 & 3 & 1\\\\\n\tDodge Challenger & 15.5 & 8 & 318.0 & 150 & 2.76 & 3.520 & 16.87 & 0 & 0 & 3 & 2\\\\\n\tAMC Javelin & 15.2 & 8 & 304.0 & 150 & 3.15 & 3.435 & 17.30 & 0 & 0 & 3 & 2\\\\\n\tCamaro Z28 & 13.3 & 8 & 350.0 & 245 & 3.73 & 3.840 & 15.41 & 0 & 0 & 3 & 4\\\\\n\tPontiac Firebird & 19.2 & 8 & 400.0 & 175 & 3.08 & 3.845 & 17.05 & 0 & 0 & 3 & 2\\\\\n\tFiat X1-9 & 27.3 & 4 &  79.0 &  66 & 4.08 & 1.935 & 18.90 & 1 & 1 & 4 & 1\\\\\n\tPorsche 914-2 & 26.0 & 4 & 120.3 &  91 & 4.43 & 2.140 & 16.70 & 0 & 1 & 5 & 2\\\\\n\tLotus Europa & 30.4 & 4 &  95.1 & 113 & 3.77 & 1.513 & 16.90 & 1 & 1 & 5 & 2\\\\\n\tFord Pantera L & 15.8 & 8 & 351.0 & 264 & 4.22 & 3.170 & 14.50 & 0 & 1 & 5 & 4\\\\\n\tFerrari Dino & 19.7 & 6 & 145.0 & 175 & 3.62 & 2.770 & 15.50 & 0 & 1 & 5 & 6\\\\\n\tMaserati Bora & 15.0 & 8 & 301.0 & 335 & 3.54 & 3.570 & 14.60 & 0 & 1 & 5 & 8\\\\\n\tVolvo 142E & 21.4 & 4 & 121.0 & 109 & 4.11 & 2.780 & 18.60 & 1 & 1 & 4 & 2\\\\\n\\end{tabular}\n",
            "text/plain": [
              "                    mpg  cyl disp  hp  drat wt    qsec  vs am gear carb\n",
              "Mazda RX4           21.0 6   160.0 110 3.90 2.620 16.46 0  1  4    4   \n",
              "Mazda RX4 Wag       21.0 6   160.0 110 3.90 2.875 17.02 0  1  4    4   \n",
              "Datsun 710          22.8 4   108.0  93 3.85 2.320 18.61 1  1  4    1   \n",
              "Hornet 4 Drive      21.4 6   258.0 110 3.08 3.215 19.44 1  0  3    1   \n",
              "Hornet Sportabout   18.7 8   360.0 175 3.15 3.440 17.02 0  0  3    2   \n",
              "Valiant             18.1 6   225.0 105 2.76 3.460 20.22 1  0  3    1   \n",
              "Duster 360          14.3 8   360.0 245 3.21 3.570 15.84 0  0  3    4   \n",
              "Merc 240D           24.4 4   146.7  62 3.69 3.190 20.00 1  0  4    2   \n",
              "Merc 230            22.8 4   140.8  95 3.92 3.150 22.90 1  0  4    2   \n",
              "Merc 280            19.2 6   167.6 123 3.92 3.440 18.30 1  0  4    4   \n",
              "Merc 280C           17.8 6   167.6 123 3.92 3.440 18.90 1  0  4    4   \n",
              "Merc 450SE          16.4 8   275.8 180 3.07 4.070 17.40 0  0  3    3   \n",
              "Merc 450SL          17.3 8   275.8 180 3.07 3.730 17.60 0  0  3    3   \n",
              "Merc 450SLC         15.2 8   275.8 180 3.07 3.780 18.00 0  0  3    3   \n",
              "Cadillac Fleetwood  10.4 8   472.0 205 2.93 5.250 17.98 0  0  3    4   \n",
              "Lincoln Continental 10.4 8   460.0 215 3.00 5.424 17.82 0  0  3    4   \n",
              "Chrysler Imperial   14.7 8   440.0 230 3.23 5.345 17.42 0  0  3    4   \n",
              "Fiat 128            32.4 4    78.7  66 4.08 2.200 19.47 1  1  4    1   \n",
              "Honda Civic         30.4 4    75.7  52 4.93 1.615 18.52 1  1  4    2   \n",
              "Toyota Corolla      33.9 4    71.1  65 4.22 1.835 19.90 1  1  4    1   \n",
              "Toyota Corona       21.5 4   120.1  97 3.70 2.465 20.01 1  0  3    1   \n",
              "Dodge Challenger    15.5 8   318.0 150 2.76 3.520 16.87 0  0  3    2   \n",
              "AMC Javelin         15.2 8   304.0 150 3.15 3.435 17.30 0  0  3    2   \n",
              "Camaro Z28          13.3 8   350.0 245 3.73 3.840 15.41 0  0  3    4   \n",
              "Pontiac Firebird    19.2 8   400.0 175 3.08 3.845 17.05 0  0  3    2   \n",
              "Fiat X1-9           27.3 4    79.0  66 4.08 1.935 18.90 1  1  4    1   \n",
              "Porsche 914-2       26.0 4   120.3  91 4.43 2.140 16.70 0  1  5    2   \n",
              "Lotus Europa        30.4 4    95.1 113 3.77 1.513 16.90 1  1  5    2   \n",
              "Ford Pantera L      15.8 8   351.0 264 4.22 3.170 14.50 0  1  5    4   \n",
              "Ferrari Dino        19.7 6   145.0 175 3.62 2.770 15.50 0  1  5    6   \n",
              "Maserati Bora       15.0 8   301.0 335 3.54 3.570 14.60 0  1  5    8   \n",
              "Volvo 142E          21.4 4   121.0 109 4.11 2.780 18.60 1  1  4    2   "
            ]
          },
          "metadata": {}
        }
      ]
    },
    {
      "cell_type": "markdown",
      "source": [
        "22. Autos que tengan un rendimiento menor a 18 millas por galón de combustible."
      ],
      "metadata": {
        "id": "bEv2o6UhEFX3"
      }
    },
    {
      "cell_type": "code",
      "source": [
        "subset(mtcars, subset = mpg < 18)"
      ],
      "metadata": {
        "colab": {
          "base_uri": "https://localhost:8080/",
          "height": 506
        },
        "id": "3Bine2IZEGMU",
        "outputId": "a4bc9af0-88ed-4016-cb7c-57562826fc69"
      },
      "execution_count": null,
      "outputs": [
        {
          "output_type": "display_data",
          "data": {
            "text/html": [
              "<table class=\"dataframe\">\n",
              "<caption>A data.frame: 13 × 11</caption>\n",
              "<thead>\n",
              "\t<tr><th></th><th scope=col>mpg</th><th scope=col>cyl</th><th scope=col>disp</th><th scope=col>hp</th><th scope=col>drat</th><th scope=col>wt</th><th scope=col>qsec</th><th scope=col>vs</th><th scope=col>am</th><th scope=col>gear</th><th scope=col>carb</th></tr>\n",
              "\t<tr><th></th><th scope=col>&lt;dbl&gt;</th><th scope=col>&lt;dbl&gt;</th><th scope=col>&lt;dbl&gt;</th><th scope=col>&lt;dbl&gt;</th><th scope=col>&lt;dbl&gt;</th><th scope=col>&lt;dbl&gt;</th><th scope=col>&lt;dbl&gt;</th><th scope=col>&lt;dbl&gt;</th><th scope=col>&lt;dbl&gt;</th><th scope=col>&lt;dbl&gt;</th><th scope=col>&lt;dbl&gt;</th></tr>\n",
              "</thead>\n",
              "<tbody>\n",
              "\t<tr><th scope=row>Duster 360</th><td>14.3</td><td>8</td><td>360.0</td><td>245</td><td>3.21</td><td>3.570</td><td>15.84</td><td>0</td><td>0</td><td>3</td><td>4</td></tr>\n",
              "\t<tr><th scope=row>Merc 280C</th><td>17.8</td><td>6</td><td>167.6</td><td>123</td><td>3.92</td><td>3.440</td><td>18.90</td><td>1</td><td>0</td><td>4</td><td>4</td></tr>\n",
              "\t<tr><th scope=row>Merc 450SE</th><td>16.4</td><td>8</td><td>275.8</td><td>180</td><td>3.07</td><td>4.070</td><td>17.40</td><td>0</td><td>0</td><td>3</td><td>3</td></tr>\n",
              "\t<tr><th scope=row>Merc 450SL</th><td>17.3</td><td>8</td><td>275.8</td><td>180</td><td>3.07</td><td>3.730</td><td>17.60</td><td>0</td><td>0</td><td>3</td><td>3</td></tr>\n",
              "\t<tr><th scope=row>Merc 450SLC</th><td>15.2</td><td>8</td><td>275.8</td><td>180</td><td>3.07</td><td>3.780</td><td>18.00</td><td>0</td><td>0</td><td>3</td><td>3</td></tr>\n",
              "\t<tr><th scope=row>Cadillac Fleetwood</th><td>10.4</td><td>8</td><td>472.0</td><td>205</td><td>2.93</td><td>5.250</td><td>17.98</td><td>0</td><td>0</td><td>3</td><td>4</td></tr>\n",
              "\t<tr><th scope=row>Lincoln Continental</th><td>10.4</td><td>8</td><td>460.0</td><td>215</td><td>3.00</td><td>5.424</td><td>17.82</td><td>0</td><td>0</td><td>3</td><td>4</td></tr>\n",
              "\t<tr><th scope=row>Chrysler Imperial</th><td>14.7</td><td>8</td><td>440.0</td><td>230</td><td>3.23</td><td>5.345</td><td>17.42</td><td>0</td><td>0</td><td>3</td><td>4</td></tr>\n",
              "\t<tr><th scope=row>Dodge Challenger</th><td>15.5</td><td>8</td><td>318.0</td><td>150</td><td>2.76</td><td>3.520</td><td>16.87</td><td>0</td><td>0</td><td>3</td><td>2</td></tr>\n",
              "\t<tr><th scope=row>AMC Javelin</th><td>15.2</td><td>8</td><td>304.0</td><td>150</td><td>3.15</td><td>3.435</td><td>17.30</td><td>0</td><td>0</td><td>3</td><td>2</td></tr>\n",
              "\t<tr><th scope=row>Camaro Z28</th><td>13.3</td><td>8</td><td>350.0</td><td>245</td><td>3.73</td><td>3.840</td><td>15.41</td><td>0</td><td>0</td><td>3</td><td>4</td></tr>\n",
              "\t<tr><th scope=row>Ford Pantera L</th><td>15.8</td><td>8</td><td>351.0</td><td>264</td><td>4.22</td><td>3.170</td><td>14.50</td><td>0</td><td>1</td><td>5</td><td>4</td></tr>\n",
              "\t<tr><th scope=row>Maserati Bora</th><td>15.0</td><td>8</td><td>301.0</td><td>335</td><td>3.54</td><td>3.570</td><td>14.60</td><td>0</td><td>1</td><td>5</td><td>8</td></tr>\n",
              "</tbody>\n",
              "</table>\n"
            ],
            "text/markdown": "\nA data.frame: 13 × 11\n\n| <!--/--> | mpg &lt;dbl&gt; | cyl &lt;dbl&gt; | disp &lt;dbl&gt; | hp &lt;dbl&gt; | drat &lt;dbl&gt; | wt &lt;dbl&gt; | qsec &lt;dbl&gt; | vs &lt;dbl&gt; | am &lt;dbl&gt; | gear &lt;dbl&gt; | carb &lt;dbl&gt; |\n|---|---|---|---|---|---|---|---|---|---|---|---|\n| Duster 360 | 14.3 | 8 | 360.0 | 245 | 3.21 | 3.570 | 15.84 | 0 | 0 | 3 | 4 |\n| Merc 280C | 17.8 | 6 | 167.6 | 123 | 3.92 | 3.440 | 18.90 | 1 | 0 | 4 | 4 |\n| Merc 450SE | 16.4 | 8 | 275.8 | 180 | 3.07 | 4.070 | 17.40 | 0 | 0 | 3 | 3 |\n| Merc 450SL | 17.3 | 8 | 275.8 | 180 | 3.07 | 3.730 | 17.60 | 0 | 0 | 3 | 3 |\n| Merc 450SLC | 15.2 | 8 | 275.8 | 180 | 3.07 | 3.780 | 18.00 | 0 | 0 | 3 | 3 |\n| Cadillac Fleetwood | 10.4 | 8 | 472.0 | 205 | 2.93 | 5.250 | 17.98 | 0 | 0 | 3 | 4 |\n| Lincoln Continental | 10.4 | 8 | 460.0 | 215 | 3.00 | 5.424 | 17.82 | 0 | 0 | 3 | 4 |\n| Chrysler Imperial | 14.7 | 8 | 440.0 | 230 | 3.23 | 5.345 | 17.42 | 0 | 0 | 3 | 4 |\n| Dodge Challenger | 15.5 | 8 | 318.0 | 150 | 2.76 | 3.520 | 16.87 | 0 | 0 | 3 | 2 |\n| AMC Javelin | 15.2 | 8 | 304.0 | 150 | 3.15 | 3.435 | 17.30 | 0 | 0 | 3 | 2 |\n| Camaro Z28 | 13.3 | 8 | 350.0 | 245 | 3.73 | 3.840 | 15.41 | 0 | 0 | 3 | 4 |\n| Ford Pantera L | 15.8 | 8 | 351.0 | 264 | 4.22 | 3.170 | 14.50 | 0 | 1 | 5 | 4 |\n| Maserati Bora | 15.0 | 8 | 301.0 | 335 | 3.54 | 3.570 | 14.60 | 0 | 1 | 5 | 8 |\n\n",
            "text/latex": "A data.frame: 13 × 11\n\\begin{tabular}{r|lllllllllll}\n  & mpg & cyl & disp & hp & drat & wt & qsec & vs & am & gear & carb\\\\\n  & <dbl> & <dbl> & <dbl> & <dbl> & <dbl> & <dbl> & <dbl> & <dbl> & <dbl> & <dbl> & <dbl>\\\\\n\\hline\n\tDuster 360 & 14.3 & 8 & 360.0 & 245 & 3.21 & 3.570 & 15.84 & 0 & 0 & 3 & 4\\\\\n\tMerc 280C & 17.8 & 6 & 167.6 & 123 & 3.92 & 3.440 & 18.90 & 1 & 0 & 4 & 4\\\\\n\tMerc 450SE & 16.4 & 8 & 275.8 & 180 & 3.07 & 4.070 & 17.40 & 0 & 0 & 3 & 3\\\\\n\tMerc 450SL & 17.3 & 8 & 275.8 & 180 & 3.07 & 3.730 & 17.60 & 0 & 0 & 3 & 3\\\\\n\tMerc 450SLC & 15.2 & 8 & 275.8 & 180 & 3.07 & 3.780 & 18.00 & 0 & 0 & 3 & 3\\\\\n\tCadillac Fleetwood & 10.4 & 8 & 472.0 & 205 & 2.93 & 5.250 & 17.98 & 0 & 0 & 3 & 4\\\\\n\tLincoln Continental & 10.4 & 8 & 460.0 & 215 & 3.00 & 5.424 & 17.82 & 0 & 0 & 3 & 4\\\\\n\tChrysler Imperial & 14.7 & 8 & 440.0 & 230 & 3.23 & 5.345 & 17.42 & 0 & 0 & 3 & 4\\\\\n\tDodge Challenger & 15.5 & 8 & 318.0 & 150 & 2.76 & 3.520 & 16.87 & 0 & 0 & 3 & 2\\\\\n\tAMC Javelin & 15.2 & 8 & 304.0 & 150 & 3.15 & 3.435 & 17.30 & 0 & 0 & 3 & 2\\\\\n\tCamaro Z28 & 13.3 & 8 & 350.0 & 245 & 3.73 & 3.840 & 15.41 & 0 & 0 & 3 & 4\\\\\n\tFord Pantera L & 15.8 & 8 & 351.0 & 264 & 4.22 & 3.170 & 14.50 & 0 & 1 & 5 & 4\\\\\n\tMaserati Bora & 15.0 & 8 & 301.0 & 335 & 3.54 & 3.570 & 14.60 & 0 & 1 & 5 & 8\\\\\n\\end{tabular}\n",
            "text/plain": [
              "                    mpg  cyl disp  hp  drat wt    qsec  vs am gear carb\n",
              "Duster 360          14.3 8   360.0 245 3.21 3.570 15.84 0  0  3    4   \n",
              "Merc 280C           17.8 6   167.6 123 3.92 3.440 18.90 1  0  4    4   \n",
              "Merc 450SE          16.4 8   275.8 180 3.07 4.070 17.40 0  0  3    3   \n",
              "Merc 450SL          17.3 8   275.8 180 3.07 3.730 17.60 0  0  3    3   \n",
              "Merc 450SLC         15.2 8   275.8 180 3.07 3.780 18.00 0  0  3    3   \n",
              "Cadillac Fleetwood  10.4 8   472.0 205 2.93 5.250 17.98 0  0  3    4   \n",
              "Lincoln Continental 10.4 8   460.0 215 3.00 5.424 17.82 0  0  3    4   \n",
              "Chrysler Imperial   14.7 8   440.0 230 3.23 5.345 17.42 0  0  3    4   \n",
              "Dodge Challenger    15.5 8   318.0 150 2.76 3.520 16.87 0  0  3    2   \n",
              "AMC Javelin         15.2 8   304.0 150 3.15 3.435 17.30 0  0  3    2   \n",
              "Camaro Z28          13.3 8   350.0 245 3.73 3.840 15.41 0  0  3    4   \n",
              "Ford Pantera L      15.8 8   351.0 264 4.22 3.170 14.50 0  1  5    4   \n",
              "Maserati Bora       15.0 8   301.0 335 3.54 3.570 14.60 0  1  5    8   "
            ]
          },
          "metadata": {}
        }
      ]
    },
    {
      "cell_type": "markdown",
      "source": [
        "23. Autos que tengan 4 cilindros."
      ],
      "metadata": {
        "id": "yOWn9H6_EKym"
      }
    },
    {
      "cell_type": "code",
      "source": [
        "subset(mtcars, subset = cyl == 4)"
      ],
      "metadata": {
        "colab": {
          "base_uri": "https://localhost:8080/",
          "height": 443
        },
        "id": "eK8dXHpSERK2",
        "outputId": "f70a7c66-962a-4e51-b64d-600e1d31bad9"
      },
      "execution_count": null,
      "outputs": [
        {
          "output_type": "display_data",
          "data": {
            "text/html": [
              "<table class=\"dataframe\">\n",
              "<caption>A data.frame: 11 × 11</caption>\n",
              "<thead>\n",
              "\t<tr><th></th><th scope=col>mpg</th><th scope=col>cyl</th><th scope=col>disp</th><th scope=col>hp</th><th scope=col>drat</th><th scope=col>wt</th><th scope=col>qsec</th><th scope=col>vs</th><th scope=col>am</th><th scope=col>gear</th><th scope=col>carb</th></tr>\n",
              "\t<tr><th></th><th scope=col>&lt;dbl&gt;</th><th scope=col>&lt;dbl&gt;</th><th scope=col>&lt;dbl&gt;</th><th scope=col>&lt;dbl&gt;</th><th scope=col>&lt;dbl&gt;</th><th scope=col>&lt;dbl&gt;</th><th scope=col>&lt;dbl&gt;</th><th scope=col>&lt;dbl&gt;</th><th scope=col>&lt;dbl&gt;</th><th scope=col>&lt;dbl&gt;</th><th scope=col>&lt;dbl&gt;</th></tr>\n",
              "</thead>\n",
              "<tbody>\n",
              "\t<tr><th scope=row>Datsun 710</th><td>22.8</td><td>4</td><td>108.0</td><td> 93</td><td>3.85</td><td>2.320</td><td>18.61</td><td>1</td><td>1</td><td>4</td><td>1</td></tr>\n",
              "\t<tr><th scope=row>Merc 240D</th><td>24.4</td><td>4</td><td>146.7</td><td> 62</td><td>3.69</td><td>3.190</td><td>20.00</td><td>1</td><td>0</td><td>4</td><td>2</td></tr>\n",
              "\t<tr><th scope=row>Merc 230</th><td>22.8</td><td>4</td><td>140.8</td><td> 95</td><td>3.92</td><td>3.150</td><td>22.90</td><td>1</td><td>0</td><td>4</td><td>2</td></tr>\n",
              "\t<tr><th scope=row>Fiat 128</th><td>32.4</td><td>4</td><td> 78.7</td><td> 66</td><td>4.08</td><td>2.200</td><td>19.47</td><td>1</td><td>1</td><td>4</td><td>1</td></tr>\n",
              "\t<tr><th scope=row>Honda Civic</th><td>30.4</td><td>4</td><td> 75.7</td><td> 52</td><td>4.93</td><td>1.615</td><td>18.52</td><td>1</td><td>1</td><td>4</td><td>2</td></tr>\n",
              "\t<tr><th scope=row>Toyota Corolla</th><td>33.9</td><td>4</td><td> 71.1</td><td> 65</td><td>4.22</td><td>1.835</td><td>19.90</td><td>1</td><td>1</td><td>4</td><td>1</td></tr>\n",
              "\t<tr><th scope=row>Toyota Corona</th><td>21.5</td><td>4</td><td>120.1</td><td> 97</td><td>3.70</td><td>2.465</td><td>20.01</td><td>1</td><td>0</td><td>3</td><td>1</td></tr>\n",
              "\t<tr><th scope=row>Fiat X1-9</th><td>27.3</td><td>4</td><td> 79.0</td><td> 66</td><td>4.08</td><td>1.935</td><td>18.90</td><td>1</td><td>1</td><td>4</td><td>1</td></tr>\n",
              "\t<tr><th scope=row>Porsche 914-2</th><td>26.0</td><td>4</td><td>120.3</td><td> 91</td><td>4.43</td><td>2.140</td><td>16.70</td><td>0</td><td>1</td><td>5</td><td>2</td></tr>\n",
              "\t<tr><th scope=row>Lotus Europa</th><td>30.4</td><td>4</td><td> 95.1</td><td>113</td><td>3.77</td><td>1.513</td><td>16.90</td><td>1</td><td>1</td><td>5</td><td>2</td></tr>\n",
              "\t<tr><th scope=row>Volvo 142E</th><td>21.4</td><td>4</td><td>121.0</td><td>109</td><td>4.11</td><td>2.780</td><td>18.60</td><td>1</td><td>1</td><td>4</td><td>2</td></tr>\n",
              "</tbody>\n",
              "</table>\n"
            ],
            "text/markdown": "\nA data.frame: 11 × 11\n\n| <!--/--> | mpg &lt;dbl&gt; | cyl &lt;dbl&gt; | disp &lt;dbl&gt; | hp &lt;dbl&gt; | drat &lt;dbl&gt; | wt &lt;dbl&gt; | qsec &lt;dbl&gt; | vs &lt;dbl&gt; | am &lt;dbl&gt; | gear &lt;dbl&gt; | carb &lt;dbl&gt; |\n|---|---|---|---|---|---|---|---|---|---|---|---|\n| Datsun 710 | 22.8 | 4 | 108.0 |  93 | 3.85 | 2.320 | 18.61 | 1 | 1 | 4 | 1 |\n| Merc 240D | 24.4 | 4 | 146.7 |  62 | 3.69 | 3.190 | 20.00 | 1 | 0 | 4 | 2 |\n| Merc 230 | 22.8 | 4 | 140.8 |  95 | 3.92 | 3.150 | 22.90 | 1 | 0 | 4 | 2 |\n| Fiat 128 | 32.4 | 4 |  78.7 |  66 | 4.08 | 2.200 | 19.47 | 1 | 1 | 4 | 1 |\n| Honda Civic | 30.4 | 4 |  75.7 |  52 | 4.93 | 1.615 | 18.52 | 1 | 1 | 4 | 2 |\n| Toyota Corolla | 33.9 | 4 |  71.1 |  65 | 4.22 | 1.835 | 19.90 | 1 | 1 | 4 | 1 |\n| Toyota Corona | 21.5 | 4 | 120.1 |  97 | 3.70 | 2.465 | 20.01 | 1 | 0 | 3 | 1 |\n| Fiat X1-9 | 27.3 | 4 |  79.0 |  66 | 4.08 | 1.935 | 18.90 | 1 | 1 | 4 | 1 |\n| Porsche 914-2 | 26.0 | 4 | 120.3 |  91 | 4.43 | 2.140 | 16.70 | 0 | 1 | 5 | 2 |\n| Lotus Europa | 30.4 | 4 |  95.1 | 113 | 3.77 | 1.513 | 16.90 | 1 | 1 | 5 | 2 |\n| Volvo 142E | 21.4 | 4 | 121.0 | 109 | 4.11 | 2.780 | 18.60 | 1 | 1 | 4 | 2 |\n\n",
            "text/latex": "A data.frame: 11 × 11\n\\begin{tabular}{r|lllllllllll}\n  & mpg & cyl & disp & hp & drat & wt & qsec & vs & am & gear & carb\\\\\n  & <dbl> & <dbl> & <dbl> & <dbl> & <dbl> & <dbl> & <dbl> & <dbl> & <dbl> & <dbl> & <dbl>\\\\\n\\hline\n\tDatsun 710 & 22.8 & 4 & 108.0 &  93 & 3.85 & 2.320 & 18.61 & 1 & 1 & 4 & 1\\\\\n\tMerc 240D & 24.4 & 4 & 146.7 &  62 & 3.69 & 3.190 & 20.00 & 1 & 0 & 4 & 2\\\\\n\tMerc 230 & 22.8 & 4 & 140.8 &  95 & 3.92 & 3.150 & 22.90 & 1 & 0 & 4 & 2\\\\\n\tFiat 128 & 32.4 & 4 &  78.7 &  66 & 4.08 & 2.200 & 19.47 & 1 & 1 & 4 & 1\\\\\n\tHonda Civic & 30.4 & 4 &  75.7 &  52 & 4.93 & 1.615 & 18.52 & 1 & 1 & 4 & 2\\\\\n\tToyota Corolla & 33.9 & 4 &  71.1 &  65 & 4.22 & 1.835 & 19.90 & 1 & 1 & 4 & 1\\\\\n\tToyota Corona & 21.5 & 4 & 120.1 &  97 & 3.70 & 2.465 & 20.01 & 1 & 0 & 3 & 1\\\\\n\tFiat X1-9 & 27.3 & 4 &  79.0 &  66 & 4.08 & 1.935 & 18.90 & 1 & 1 & 4 & 1\\\\\n\tPorsche 914-2 & 26.0 & 4 & 120.3 &  91 & 4.43 & 2.140 & 16.70 & 0 & 1 & 5 & 2\\\\\n\tLotus Europa & 30.4 & 4 &  95.1 & 113 & 3.77 & 1.513 & 16.90 & 1 & 1 & 5 & 2\\\\\n\tVolvo 142E & 21.4 & 4 & 121.0 & 109 & 4.11 & 2.780 & 18.60 & 1 & 1 & 4 & 2\\\\\n\\end{tabular}\n",
            "text/plain": [
              "               mpg  cyl disp  hp  drat wt    qsec  vs am gear carb\n",
              "Datsun 710     22.8 4   108.0  93 3.85 2.320 18.61 1  1  4    1   \n",
              "Merc 240D      24.4 4   146.7  62 3.69 3.190 20.00 1  0  4    2   \n",
              "Merc 230       22.8 4   140.8  95 3.92 3.150 22.90 1  0  4    2   \n",
              "Fiat 128       32.4 4    78.7  66 4.08 2.200 19.47 1  1  4    1   \n",
              "Honda Civic    30.4 4    75.7  52 4.93 1.615 18.52 1  1  4    2   \n",
              "Toyota Corolla 33.9 4    71.1  65 4.22 1.835 19.90 1  1  4    1   \n",
              "Toyota Corona  21.5 4   120.1  97 3.70 2.465 20.01 1  0  3    1   \n",
              "Fiat X1-9      27.3 4    79.0  66 4.08 1.935 18.90 1  1  4    1   \n",
              "Porsche 914-2  26.0 4   120.3  91 4.43 2.140 16.70 0  1  5    2   \n",
              "Lotus Europa   30.4 4    95.1 113 3.77 1.513 16.90 1  1  5    2   \n",
              "Volvo 142E     21.4 4   121.0 109 4.11 2.780 18.60 1  1  4    2   "
            ]
          },
          "metadata": {}
        }
      ]
    },
    {
      "cell_type": "markdown",
      "source": [
        "24. Autos que pesen más de 2500 libras y tengan transmisión manual."
      ],
      "metadata": {
        "id": "RfNIb9bBEVdG"
      }
    },
    {
      "cell_type": "code",
      "source": [
        "subset(mtcars, subset = wt > 2.5 & am == 1)"
      ],
      "metadata": {
        "id": "H1_0B8NsEbB1",
        "outputId": "fb341c56-62ff-4c60-c769-755fb4da0da4",
        "colab": {
          "base_uri": "https://localhost:8080/",
          "height": 286
        }
      },
      "execution_count": null,
      "outputs": [
        {
          "output_type": "display_data",
          "data": {
            "text/html": [
              "<table class=\"dataframe\">\n",
              "<caption>A data.frame: 6 × 11</caption>\n",
              "<thead>\n",
              "\t<tr><th></th><th scope=col>mpg</th><th scope=col>cyl</th><th scope=col>disp</th><th scope=col>hp</th><th scope=col>drat</th><th scope=col>wt</th><th scope=col>qsec</th><th scope=col>vs</th><th scope=col>am</th><th scope=col>gear</th><th scope=col>carb</th></tr>\n",
              "\t<tr><th></th><th scope=col>&lt;dbl&gt;</th><th scope=col>&lt;dbl&gt;</th><th scope=col>&lt;dbl&gt;</th><th scope=col>&lt;dbl&gt;</th><th scope=col>&lt;dbl&gt;</th><th scope=col>&lt;dbl&gt;</th><th scope=col>&lt;dbl&gt;</th><th scope=col>&lt;dbl&gt;</th><th scope=col>&lt;dbl&gt;</th><th scope=col>&lt;dbl&gt;</th><th scope=col>&lt;dbl&gt;</th></tr>\n",
              "</thead>\n",
              "<tbody>\n",
              "\t<tr><th scope=row>Mazda RX4</th><td>21.0</td><td>6</td><td>160</td><td>110</td><td>3.90</td><td>2.620</td><td>16.46</td><td>0</td><td>1</td><td>4</td><td>4</td></tr>\n",
              "\t<tr><th scope=row>Mazda RX4 Wag</th><td>21.0</td><td>6</td><td>160</td><td>110</td><td>3.90</td><td>2.875</td><td>17.02</td><td>0</td><td>1</td><td>4</td><td>4</td></tr>\n",
              "\t<tr><th scope=row>Ford Pantera L</th><td>15.8</td><td>8</td><td>351</td><td>264</td><td>4.22</td><td>3.170</td><td>14.50</td><td>0</td><td>1</td><td>5</td><td>4</td></tr>\n",
              "\t<tr><th scope=row>Ferrari Dino</th><td>19.7</td><td>6</td><td>145</td><td>175</td><td>3.62</td><td>2.770</td><td>15.50</td><td>0</td><td>1</td><td>5</td><td>6</td></tr>\n",
              "\t<tr><th scope=row>Maserati Bora</th><td>15.0</td><td>8</td><td>301</td><td>335</td><td>3.54</td><td>3.570</td><td>14.60</td><td>0</td><td>1</td><td>5</td><td>8</td></tr>\n",
              "\t<tr><th scope=row>Volvo 142E</th><td>21.4</td><td>4</td><td>121</td><td>109</td><td>4.11</td><td>2.780</td><td>18.60</td><td>1</td><td>1</td><td>4</td><td>2</td></tr>\n",
              "</tbody>\n",
              "</table>\n"
            ],
            "text/markdown": "\nA data.frame: 6 × 11\n\n| <!--/--> | mpg &lt;dbl&gt; | cyl &lt;dbl&gt; | disp &lt;dbl&gt; | hp &lt;dbl&gt; | drat &lt;dbl&gt; | wt &lt;dbl&gt; | qsec &lt;dbl&gt; | vs &lt;dbl&gt; | am &lt;dbl&gt; | gear &lt;dbl&gt; | carb &lt;dbl&gt; |\n|---|---|---|---|---|---|---|---|---|---|---|---|\n| Mazda RX4 | 21.0 | 6 | 160 | 110 | 3.90 | 2.620 | 16.46 | 0 | 1 | 4 | 4 |\n| Mazda RX4 Wag | 21.0 | 6 | 160 | 110 | 3.90 | 2.875 | 17.02 | 0 | 1 | 4 | 4 |\n| Ford Pantera L | 15.8 | 8 | 351 | 264 | 4.22 | 3.170 | 14.50 | 0 | 1 | 5 | 4 |\n| Ferrari Dino | 19.7 | 6 | 145 | 175 | 3.62 | 2.770 | 15.50 | 0 | 1 | 5 | 6 |\n| Maserati Bora | 15.0 | 8 | 301 | 335 | 3.54 | 3.570 | 14.60 | 0 | 1 | 5 | 8 |\n| Volvo 142E | 21.4 | 4 | 121 | 109 | 4.11 | 2.780 | 18.60 | 1 | 1 | 4 | 2 |\n\n",
            "text/latex": "A data.frame: 6 × 11\n\\begin{tabular}{r|lllllllllll}\n  & mpg & cyl & disp & hp & drat & wt & qsec & vs & am & gear & carb\\\\\n  & <dbl> & <dbl> & <dbl> & <dbl> & <dbl> & <dbl> & <dbl> & <dbl> & <dbl> & <dbl> & <dbl>\\\\\n\\hline\n\tMazda RX4 & 21.0 & 6 & 160 & 110 & 3.90 & 2.620 & 16.46 & 0 & 1 & 4 & 4\\\\\n\tMazda RX4 Wag & 21.0 & 6 & 160 & 110 & 3.90 & 2.875 & 17.02 & 0 & 1 & 4 & 4\\\\\n\tFord Pantera L & 15.8 & 8 & 351 & 264 & 4.22 & 3.170 & 14.50 & 0 & 1 & 5 & 4\\\\\n\tFerrari Dino & 19.7 & 6 & 145 & 175 & 3.62 & 2.770 & 15.50 & 0 & 1 & 5 & 6\\\\\n\tMaserati Bora & 15.0 & 8 & 301 & 335 & 3.54 & 3.570 & 14.60 & 0 & 1 & 5 & 8\\\\\n\tVolvo 142E & 21.4 & 4 & 121 & 109 & 4.11 & 2.780 & 18.60 & 1 & 1 & 4 & 2\\\\\n\\end{tabular}\n",
            "text/plain": [
              "               mpg  cyl disp hp  drat wt    qsec  vs am gear carb\n",
              "Mazda RX4      21.0 6   160  110 3.90 2.620 16.46 0  1  4    4   \n",
              "Mazda RX4 Wag  21.0 6   160  110 3.90 2.875 17.02 0  1  4    4   \n",
              "Ford Pantera L 15.8 8   351  264 4.22 3.170 14.50 0  1  5    4   \n",
              "Ferrari Dino   19.7 6   145  175 3.62 2.770 15.50 0  1  5    6   \n",
              "Maserati Bora  15.0 8   301  335 3.54 3.570 14.60 0  1  5    8   \n",
              "Volvo 142E     21.4 4   121  109 4.11 2.780 18.60 1  1  4    2   "
            ]
          },
          "metadata": {}
        }
      ]
    }
  ]
}